{
 "cells": [
  {
   "cell_type": "markdown",
   "metadata": {},
   "source": [
    "# Cohere Fine-Tuned Classification Model Test"
   ]
  },
  {
   "cell_type": "code",
   "execution_count": 1,
   "metadata": {},
   "outputs": [
    {
     "name": "stdout",
     "output_type": "stream",
     "text": [
      "The confidence levels of the labels are: [Classification<prediction: \"unrelated queries\", confidence: 0.21430062, labels: {'ask for exercise advice': LabelPrediction(confidence=0.18991743), 'ask for nutrition advice': LabelPrediction(confidence=0.19167064), 'edit exercise plan': LabelPrediction(confidence=0.2017465), 'edit nutrition plan': LabelPrediction(confidence=0.20236482), 'unrelated queries': LabelPrediction(confidence=0.21430062)}>, Classification<prediction: \"edit nutrition plan\", confidence: 0.23444302, labels: {'ask for exercise advice': LabelPrediction(confidence=0.1786194), 'ask for nutrition advice': LabelPrediction(confidence=0.19456923), 'edit exercise plan': LabelPrediction(confidence=0.20986262), 'edit nutrition plan': LabelPrediction(confidence=0.23444302), 'unrelated queries': LabelPrediction(confidence=0.18250571)}>, Classification<prediction: \"ask for nutrition advice\", confidence: 0.23175876, labels: {'ask for exercise advice': LabelPrediction(confidence=0.18186349), 'ask for nutrition advice': LabelPrediction(confidence=0.23175876), 'edit exercise plan': LabelPrediction(confidence=0.17446916), 'edit nutrition plan': LabelPrediction(confidence=0.21302664), 'unrelated queries': LabelPrediction(confidence=0.19888195)}>, Classification<prediction: \"ask for nutrition advice\", confidence: 0.23193912, labels: {'ask for exercise advice': LabelPrediction(confidence=0.18269773), 'ask for nutrition advice': LabelPrediction(confidence=0.23193912), 'edit exercise plan': LabelPrediction(confidence=0.17378609), 'edit nutrition plan': LabelPrediction(confidence=0.21388365), 'unrelated queries': LabelPrediction(confidence=0.19769341)}>, Classification<prediction: \"ask for nutrition advice\", confidence: 0.23093547, labels: {'ask for exercise advice': LabelPrediction(confidence=0.18287936), 'ask for nutrition advice': LabelPrediction(confidence=0.23093547), 'edit exercise plan': LabelPrediction(confidence=0.17472471), 'edit nutrition plan': LabelPrediction(confidence=0.21518427), 'unrelated queries': LabelPrediction(confidence=0.19627619)}>]\n"
     ]
    }
   ],
   "source": [
    "import cohere\n",
    "from cohere.responses.classify import Example\n",
    "from dotenv import load_dotenv\n",
    "import os\n",
    "\n",
    "load_dotenv()\n",
    "\n",
    "co = cohere.Client(os.getenv(\"COHERE_API_KEY\") or \"\")  # This is your trial API key\n",
    "response = co.classify(\n",
    "    model=\"fce8fadc-8877-4a09-82d3-4d07dfdf5ebc-ft\",\n",
    "    inputs=[\n",
    "        \"Hello world\",\n",
    "        \"Please replace my post-workout snack with something less sweet\",\n",
    "        \"Why am I getting hungry at night?\",\n",
    "        \"How many calories am I consuming every day?\",\n",
    "        \"How much protein am I eating\",\n",
    "    ],\n",
    ")\n",
    "\n",
    "print(f\"The confidence levels of the labels are: {response.classifications}\")"
   ]
  }
 ],
 "metadata": {
  "kernelspec": {
   "display_name": "Python 3",
   "language": "python",
   "name": "python3"
  },
  "language_info": {
   "codemirror_mode": {
    "name": "ipython",
    "version": 3
   },
   "file_extension": ".py",
   "mimetype": "text/x-python",
   "name": "python",
   "nbconvert_exporter": "python",
   "pygments_lexer": "ipython3",
   "version": "3.11.4"
  },
  "orig_nbformat": 4
 },
 "nbformat": 4,
 "nbformat_minor": 2
}
