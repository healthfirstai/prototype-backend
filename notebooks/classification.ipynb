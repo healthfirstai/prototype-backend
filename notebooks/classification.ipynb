{
 "cells": [
  {
   "cell_type": "markdown",
   "metadata": {},
   "source": [
    "# Cohere Fine-Tuned Classification Model Test"
   ]
  },
  {
   "cell_type": "code",
   "execution_count": null,
   "metadata": {},
   "outputs": [],
   "source": [
    "import cohere\n",
    "from cohere.responses.classify import Example\n",
    "from dotenv import load_dotenv\n",
    "import os\n",
    "\n",
    "load_dotenv()\n",
    "\n",
    "co = cohere.Client(os.getenv(\"COHERE_API_KEY\") or \"\")  # This is your trial API key\n",
    "response = co.classify(\n",
    "    model=\"fce8fadc-8877-4a09-82d3-4d07dfdf5ebc-ft\",\n",
    "    inputs=[\n",
    "        \"Hello world\",\n",
    "        \"Please replace my post-workout snack with something less sweet\",\n",
    "        \"Why am I getting hungry at night?\",\n",
    "        \"How many calories am I consuming every day?\",\n",
    "        \"How much protein am I eating\",\n",
    "    ],\n",
    ")\n",
    "\n",
    "print(f\"The confidence levels of the labels are: {response.classifications}\")"
   ]
  }
 ],
 "metadata": {
  "kernelspec": {
   "display_name": "Python 3",
   "language": "python",
   "name": "python3"
  },
  "language_info": {
   "name": "python",
   "version": "3.11.4"
  },
  "orig_nbformat": 4
 },
 "nbformat": 4,
 "nbformat_minor": 2
}
