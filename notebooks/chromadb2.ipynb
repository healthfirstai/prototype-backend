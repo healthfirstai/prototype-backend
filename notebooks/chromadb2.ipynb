{
 "cells": [
  {
   "cell_type": "code",
   "execution_count": 1,
   "id": null,
   "metadata": {},
   "outputs": [],
   "source": [
    "from langchain.document_loaders import PyPDFDirectoryLoader\n",
    "from langchain.embeddings import CohereEmbeddings\n",
    "from langchain.text_splitter import RecursiveCharacterTextSplitter\n",
    "from langchain.vectorstores import Chroma"
   ]
  },
  {
   "cell_type": "code",
   "execution_count": 2,
   "id": null,
   "metadata": {},
   "outputs": [],
   "source": [
    "\n",
    "COHERE_API_KEY = \"A1GXIK13oJjJ1ZgxeMHFhz38El38RRKMAxmNbL0l\""
   ]
  },
  {
   "cell_type": "code",
   "execution_count": 3,
   "id": null,
   "metadata": {},
   "outputs": [],
   "source": [
    "loader = PyPDFDirectoryLoader(path=\"./pdfs/\")\n",
    "\n",
    "documents = loader.load()"
   ]
  },
  {
   "cell_type": "code",
   "execution_count": 4,
   "id": null,
   "metadata": {},
   "outputs": [],
   "source": [
    "text_splitter = RecursiveCharacterTextSplitter(chunk_size=1000, chunk_overlap=200)\n",
    "texts = text_splitter.split_documents(documents)"
   ]
  },
  {
   "cell_type": "code",
   "execution_count": 5,
   "id": null,
   "metadata": {},
   "outputs": [
    {
     "data": {
      "text/plain": [
       "2524"
      ]
     },
     "execution_count": 5,
     "metadata": {},
     "output_type": "execute_result"
    }
   ],
   "source": [
    "len(texts)"
   ]
  },
  {
   "cell_type": "code",
   "execution_count": 6,
   "id": null,
   "metadata": {},
   "outputs": [
    {
     "data": {
      "text/plain": [
       "Document(page_content='individuals\\nPHN strategies for nutrition: intervention at the \\necological level\\nFood and nutrition guidelinesFetal programmingCardiovascular diseaseCancerOsteoporosisDiabetesVitamin A deficiencyIodine deficiencyIron deficiencyMaternal and child healthBreast feedingAdverse outcomes in pregnancyNutrition and Metabolism\\nCore concepts of nutritionMolecular aspects of nutritionIntegration of metabolism 1: EnergyIntegration of metabolism 2: MacronutrientsIntegration of metabolism 3: Protein and amino acidsPregnancy and lactationGrowth and agingNutrition and the brainThe sensory systems and food palatabilityThe gastrointestinal tractThe cardiovascular systemThe skeletal systemThe immune and inflammatory systemsPhytochemicalsThe control of food intakeOvernutritionUndernutritionExercise performance\\nClinical Nutrition', metadata={'source': 'pdfs/Sports-And-Exercise-Nutrition.pdf', 'page': 3})"
      ]
     },
     "execution_count": 6,
     "metadata": {},
     "output_type": "execute_result"
    }
   ],
   "source": [
    "texts[3]"
   ]
  },
  {
   "cell_type": "code",
   "execution_count": 7,
   "id": null,
   "metadata": {},
   "outputs": [],
   "source": [
    "embedding_function = CohereEmbeddings(cohere_api_key=COHERE_API_KEY) # type: ignore"
   ]
  },
  {
   "cell_type": "code",
   "execution_count": 8,
   "id": null,
   "metadata": {},
   "outputs": [],
   "source": [
    "# db = Chroma.afrom_documents(texts, embedding_function)\n",
    "db = Chroma.afrom_documents(texts, embedding_function, persist_directory=\"./chroma_db\")"
   ]
  },
  {
   "cell_type": "code",
   "execution_count": null,
   "id": null,
   "metadata": {},
   "outputs": [],
   "source": [
    "query = \"How many times a day should I eat?\""
   ]
  },
  {
   "cell_type": "code",
   "execution_count": 9,
   "id": null,
   "metadata": {},
   "outputs": [
    {
     "data": {
      "text/plain": [
       "['Lanham_bindex.indd   388Lanham_bindex.indd   388 7/28/2011   4:40:16 PM7/28/2011   4:40:16 PM',\n",
       " 'Sport and Exercise Nutrition\\nLanham_ffirs.indd   iLanham_ffirs.indd   i 7/28/2011   5:49:59 PM7/28/2011   5:49:59 PM',\n",
       " 'Introduction to Human Nutrition\\nIntroduction to human nutrition: a global \\nperspective on food and nutrition\\nBody compositionEnergy metabolismNutrition and metabolism of proteins and amino acidsDigestion and metabolism of carbohydratesNutrition and metabolism of lipidsDietary reference standardsThe vitaminsMinerals and trace elementsMeasuring food intakeFood compositionFood and nutrition: policy and regulatory issuesNutrition research methodologyFood safety: a public health issue of growing importanceFood and nutrition-related diseases: the global challenge\\nPublic Health Nutrition\\nAn overview of public health nutritionNutrition epidemiologyFood choiceAssessment of nutritional status at individual and \\n population level\\nAssessment of physical activityOvernutritionUndernutritionEating disorders, dieting and food fadsPHN strategies for nutrition: intervention at the level of \\nindividuals\\nPHN strategies for nutrition: intervention at the \\necological level']"
      ]
     },
     "execution_count": 9,
     "metadata": {},
     "output_type": "execute_result"
    }
   ],
   "source": [
    "documents = []\n",
    "for text in texts:\n",
    "    documents.append(text.page_content)\n",
    "\n",
    "documents[:3]"
   ]
  },
  {
   "cell_type": "code",
   "execution_count": 10,
   "id": null,
   "metadata": {},
   "outputs": [],
   "source": [
    "# NOTE: I am embedding only page_content for now\n",
    "my_embeddings = embedding_function.embed_documents(documents)"
   ]
  },
  {
   "cell_type": "code",
   "execution_count": null,
   "id": null,
   "metadata": {},
   "outputs": [],
   "source": [
    "my_embeddings[0][10]"
   ]
  },
  {
   "cell_type": "code",
   "execution_count": null,
   "id": null,
   "metadata": {},
   "outputs": [],
   "source": [
    "# NOTE: one embedding per page\n",
    "len(my_embeddings)"
   ]
  },
  {
   "cell_type": "code",
   "execution_count": 11,
   "id": null,
   "metadata": {},
   "outputs": [],
   "source": [
    "import chromadb\n",
    "from chromadb.config import Settings\n",
    "# NOTE: docker container should be running before this line is executed\n",
    "client = chromadb.HttpClient(settings=Settings(allow_reset=True)) # type: ignore"
   ]
  },
  {
   "cell_type": "code",
   "execution_count": 12,
   "id": null,
   "metadata": {},
   "outputs": [],
   "source": [
    "collection = client.create_collection(name=\"my_collection\") # type: ignore"
   ]
  },
  {
   "cell_type": "code",
   "execution_count": null,
   "id": null,
   "metadata": {},
   "outputs": [],
   "source": [
    "# client.delete_collection(\"my_collection\")"
   ]
  },
  {
   "cell_type": "code",
   "execution_count": 14,
   "id": null,
   "metadata": {},
   "outputs": [
    {
     "name": "stdout",
     "output_type": "stream",
     "text": [
      "name='my_collection' id=UUID('4a0df89b-d6f9-45f4-a390-e00af179429e') metadata=None\n"
     ]
    }
   ],
   "source": [
    "print(collection)"
   ]
  },
  {
   "cell_type": "code",
   "execution_count": 15,
   "id": null,
   "metadata": {},
   "outputs": [
    {
     "data": {
      "text/plain": [
       "[Document(page_content='Lanham_bindex.indd   388Lanham_bindex.indd   388 7/28/2011   4:40:16 PM7/28/2011   4:40:16 PM', metadata={'source': 'pdfs/Sports-And-Exercise-Nutrition.pdf', 'page': 1}),\n",
       " Document(page_content='Sport and Exercise Nutrition\\nLanham_ffirs.indd   iLanham_ffirs.indd   i 7/28/2011   5:49:59 PM7/28/2011   5:49:59 PM', metadata={'source': 'pdfs/Sports-And-Exercise-Nutrition.pdf', 'page': 2}),\n",
       " Document(page_content='Introduction to Human Nutrition\\nIntroduction to human nutrition: a global \\nperspective on food and nutrition\\nBody compositionEnergy metabolismNutrition and metabolism of proteins and amino acidsDigestion and metabolism of carbohydratesNutrition and metabolism of lipidsDietary reference standardsThe vitaminsMinerals and trace elementsMeasuring food intakeFood compositionFood and nutrition: policy and regulatory issuesNutrition research methodologyFood safety: a public health issue of growing importanceFood and nutrition-related diseases: the global challenge\\nPublic Health Nutrition\\nAn overview of public health nutritionNutrition epidemiologyFood choiceAssessment of nutritional status at individual and \\n population level\\nAssessment of physical activityOvernutritionUndernutritionEating disorders, dieting and food fadsPHN strategies for nutrition: intervention at the level of \\nindividuals\\nPHN strategies for nutrition: intervention at the \\necological level', metadata={'source': 'pdfs/Sports-And-Exercise-Nutrition.pdf', 'page': 3})]"
      ]
     },
     "execution_count": 15,
     "metadata": {},
     "output_type": "execute_result"
    }
   ],
   "source": [
    "texts[:3]"
   ]
  },
  {
   "cell_type": "code",
   "execution_count": 13,
   "id": null,
   "metadata": {},
   "outputs": [
    {
     "data": {
      "text/plain": [
       "0"
      ]
     },
     "execution_count": 13,
     "metadata": {},
     "output_type": "execute_result"
    }
   ],
   "source": [
    "collection.count()"
   ]
  },
  {
   "cell_type": "markdown",
   "metadata": {},
   "source": [
    "# asyncrnously embed chunks\n"
   ]
  },
  {
   "cell_type": "code",
   "execution_count": null,
   "id": null,
   "metadata": {},
   "outputs": [],
   "source": [
    "#NOTE: initialize the collection with the embeddings\n",
    "\n",
    "i = 1\n",
    "docs = []\n",
    "metadata = []\n",
    "ids = []\n",
    "for text in texts:\n",
    "    doc = text.page_content\n",
    "    metadata = text.metadata\n",
    "    id = str(i)\n",
    "    collection.add(\n",
    "        documents=doc,\n",
    "        metadatas=metadata,\n",
    "        ids=id,\n",
    "        # NOTE: try to find out what does this thing do\n",
    "        embeddings= embedding_function.embed_documents([doc])[0],\n",
    "    )\n",
    "    i += 1"
   ]
  },
  {
   "cell_type": "code",
   "execution_count": null,
   "id": null,
   "metadata": {},
   "outputs": [],
   "source": [
    "collection = client.create_collection(name=\"my_collection_2\")"
   ]
  },
  {
   "cell_type": "code",
   "execution_count": null,
   "id": null,
   "metadata": {},
   "outputs": [],
   "source": [
    "i = 1\n",
    "docs = []\n",
    "metadata = []\n",
    "ids = []\n",
    "for text in texts:\n",
    "    docs.append(text.page_content)\n",
    "    metadata.append(text.metadata)\n",
    "    ids.append(str(i))\n",
    "    i += 1"
   ]
  },
  {
   "cell_type": "code",
   "execution_count": null,
   "id": null,
   "metadata": {},
   "outputs": [],
   "source": [
    "docs[:3]"
   ]
  },
  {
   "cell_type": "code",
   "execution_count": null,
   "id": null,
   "metadata": {},
   "outputs": [],
   "source": [
    "collection.add(\n",
    "    documents=docs,\n",
    "    metadatas=metadata,\n",
    "    ids=ids,\n",
    "    embeddings=my_embeddings\n",
    ")"
   ]
  },
  {
   "cell_type": "code",
   "execution_count": null,
   "id": null,
   "metadata": {},
   "outputs": [],
   "source": [
    "my_embeddings[0]"
   ]
  },
  {
   "cell_type": "code",
   "execution_count": null,
   "id": null,
   "metadata": {},
   "outputs": [],
   "source": [
    "collection.count()"
   ]
  },
  {
   "cell_type": "code",
   "execution_count": null,
   "id": null,
   "metadata": {},
   "outputs": [],
   "source": [
    "get_coll = client.get_collection(\"my_collection_2\")"
   ]
  },
  {
   "cell_type": "code",
   "execution_count": null,
   "id": null,
   "metadata": {},
   "outputs": [],
   "source": [
    "get_coll.count()"
   ]
  },
  {
   "cell_type": "code",
   "execution_count": null,
   "id": null,
   "metadata": {},
   "outputs": [],
   "source": [
    "client.delete_collection(\"my_collection_2\")\n",
    "client.delete_collection(\"my_collection\")"
   ]
  },
  {
   "cell_type": "code",
   "execution_count": null,
   "id": null,
   "metadata": {},
   "outputs": [],
   "source": []
  }
 ],
 "metadata": {
  "kernelspec": {
   "display_name": ".venv",
   "language": "python",
   "name": "python3"
  },
  "language_info": {
   "codemirror_mode": {
    "name": "ipython",
    "version": 3
   },
   "file_extension": ".py",
   "mimetype": "text/x-python",
   "name": "python",
   "nbconvert_exporter": "python",
   "pygments_lexer": "ipython3",
   "version": "3.11.4"
  },
  "orig_nbformat": 4
 },
 "nbformat": 4,
 "nbformat_minor": 2
}
