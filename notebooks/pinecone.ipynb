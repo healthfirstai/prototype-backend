{
 "cells": [
  {
   "cell_type": "code",
   "execution_count": 12,
   "metadata": {},
   "outputs": [],
   "source": [
    "import os\n",
    "from langchain.document_loaders import PyPDFDirectoryLoader\n",
    "from healthfirstai_prototype.data_models import User\n",
    "from langchain.embeddings.cohere import CohereEmbeddings\n",
    "from langchain.text_splitter import CharacterTextSplitter\n",
    "from langchain.vectorstores import FAISS, Pinecone\n",
    "import pinecone\n"
   ]
  },
  {
   "cell_type": "code",
   "execution_count": 13,
   "metadata": {},
   "outputs": [],
   "source": [
    "COHERE_API_KEY = \"\"\n",
    "SERPER_API_KEY = \"\"\n",
    "PINECONE_API_KEY = \"\"\n",
    "PINECONE_ENV_NAME = \"\""
   ]
  },
  {
   "cell_type": "code",
   "execution_count": 14,
   "metadata": {},
   "outputs": [],
   "source": [
    "loader = PyPDFDirectoryLoader(path=\"./pdfs/\")\n",
    "\n",
    "documents = loader.load()"
   ]
  },
  {
   "cell_type": "code",
   "execution_count": 15,
   "metadata": {},
   "outputs": [],
   "source": [
    "text_splitter = CharacterTextSplitter(chunk_size=1000, chunk_overlap=200)\n",
    "texts = text_splitter.split_documents(documents)"
   ]
  },
  {
   "cell_type": "code",
   "execution_count": 16,
   "metadata": {},
   "outputs": [],
   "source": [
    "embedding_function = CohereEmbeddings(cohere_api_key=COHERE_API_KEY) # type: ignore"
   ]
  },
  {
   "cell_type": "code",
   "execution_count": 17,
   "metadata": {},
   "outputs": [],
   "source": [
    "embedding0 = embedding_function.embed_documents([texts[0].page_content])"
   ]
  },
  {
   "cell_type": "code",
   "execution_count": 19,
   "metadata": {},
   "outputs": [
    {
     "data": {
      "text/plain": [
       "4096"
      ]
     },
     "execution_count": 19,
     "metadata": {},
     "output_type": "execute_result"
    }
   ],
   "source": [
    "# testing vector dimension\n",
    "len(embedding0[0])"
   ]
  },
  {
   "cell_type": "code",
   "execution_count": 20,
   "metadata": {},
   "outputs": [],
   "source": [
    "indexname = \"pinecone-knowledge-base\""
   ]
  },
  {
   "cell_type": "code",
   "execution_count": 21,
   "metadata": {},
   "outputs": [],
   "source": [
    "# We initialize pinecone\n",
    "pinecone.init(\n",
    "    api_key=PINECONE_API_KEY,\n",
    "    environment=PINECONE_ENV_NAME\n",
    ")"
   ]
  },
  {
   "cell_type": "code",
   "execution_count": 24,
   "metadata": {},
   "outputs": [
    {
     "data": {
      "text/plain": [
       "['pinecone-knowledge-base']"
      ]
     },
     "execution_count": 24,
     "metadata": {},
     "output_type": "execute_result"
    }
   ],
   "source": [
    "pinecone.list_indexes()"
   ]
  },
  {
   "cell_type": "code",
   "execution_count": 23,
   "metadata": {},
   "outputs": [],
   "source": [
    "if indexname not in pinecone.list_indexes():\n",
    "    # we create a new index\n",
    "    pinecone.create_index(\n",
    "        name=indexname,\n",
    "        metric='cosine',\n",
    "        dimension=len(embedding0[0]) # dimension of the vector\n",
    "    )"
   ]
  },
  {
   "cell_type": "code",
   "execution_count": 27,
   "metadata": {},
   "outputs": [
    {
     "data": {
      "text/plain": [
       "{'dimension': 4096,\n",
       " 'index_fullness': 0.0,\n",
       " 'namespaces': {},\n",
       " 'total_vector_count': 0}"
      ]
     },
     "execution_count": 27,
     "metadata": {},
     "output_type": "execute_result"
    }
   ],
   "source": [
    "# Then we connect to the new index:\n",
    "index = pinecone.Index(indexname)\n",
    "# And request the index stats:\n",
    "index.describe_index_stats()"
   ]
  },
  {
   "cell_type": "code",
   "execution_count": 35,
   "metadata": {},
   "outputs": [],
   "source": [
    "docsearch = Pinecone.from_documents(texts, embedding_function, index_name=indexname)"
   ]
  },
  {
   "cell_type": "code",
   "execution_count": 36,
   "metadata": {},
   "outputs": [
    {
     "data": {
      "text/plain": [
       "{'dimension': 4096,\n",
       " 'index_fullness': 0.0,\n",
       " 'namespaces': {'': {'vector_count': 498}},\n",
       " 'total_vector_count': 498}"
      ]
     },
     "execution_count": 36,
     "metadata": {},
     "output_type": "execute_result"
    }
   ],
   "source": [
    "index.describe_index_stats()"
   ]
  },
  {
   "cell_type": "code",
   "execution_count": 37,
   "metadata": {},
   "outputs": [],
   "source": [
    "query = \"How many hours a day should I sleep?\"\n",
    "docs = docsearch.similarity_search(query)"
   ]
  },
  {
   "cell_type": "code",
   "execution_count": 39,
   "metadata": {},
   "outputs": [],
   "source": [
    "i = 1\n",
    "docs = []\n",
    "metadatas = []\n",
    "ids = []\n",
    "for text in texts:\n",
    "    docs.append(text.page_content)\n",
    "    metadatas.append(text.metadata)\n",
    "    id = str(i)\n",
    "    i += 1"
   ]
  },
  {
   "cell_type": "code",
   "execution_count": 40,
   "metadata": {},
   "outputs": [
    {
     "name": "stderr",
     "output_type": "stream",
     "text": [
      "Upserted vectors: 100%|██████████| 398/398 [00:09<00:00, 40.69it/s]\n"
     ]
    },
    {
     "data": {
      "text/plain": [
       "['ca187d5c-9d76-432a-9bc4-557278d04882',\n",
       " 'b1d5ce1e-75a6-490a-a857-2ce17bc176e0',\n",
       " '6118d535-e8f1-4a9d-9141-16e6a7678ab9',\n",
       " 'a66858eb-9277-4ec9-9fbb-3369ed389152',\n",
       " '86f9b336-2f3b-4548-857e-3e27f4fa3437',\n",
       " '9dc4231c-7aba-4130-a0da-71220fcee5c1',\n",
       " '785123b0-67d2-4fd4-8554-73c415a64128',\n",
       " 'd33bcaa4-12da-4efe-afb6-760cb18d1eaf',\n",
       " '49dfffb3-0bce-4def-afd8-0ad5da6a6a43',\n",
       " '3d99ef9d-0ec6-47ac-9341-4bb53ab629d8',\n",
       " '2f02b429-ace1-4d3c-b390-9e750f609473',\n",
       " 'a8f47f30-fef2-46ec-a933-8d8af8cd52a7',\n",
       " '79a74597-68a1-4762-b5eb-5e8e445ae005',\n",
       " '8e518f41-c617-4b41-97f7-8934e847a990',\n",
       " 'e6f42575-0414-4009-a11a-372881e15384',\n",
       " '4019a82a-fa93-4c7d-8f07-9d5ba3754de8',\n",
       " '2f4aa207-8319-4286-b6a9-d0ed2d0a3218',\n",
       " '599b9b42-2f3e-4a8e-b3e1-8ddbc78716d8',\n",
       " '310c4c52-3ed2-49bb-8bf0-332fc4bd5225',\n",
       " '24ae1c20-e0ac-4f18-b6cb-881c2395c7a3',\n",
       " '9f78804c-aa7a-4a07-be83-7f835e583ba5',\n",
       " 'a85fbe9f-ce8a-4363-bbb1-9dc95033b1cb',\n",
       " 'd3bf63a7-af80-46cd-8eb2-c254da685ee3',\n",
       " '72e0489f-2130-442d-bb45-b16133089a28',\n",
       " '5dd65e66-c9d5-46bd-a2a9-73cb03c846e0',\n",
       " '9f4f378d-ea76-46ca-bfbe-492e76ec941e',\n",
       " '52a21fce-a6dc-44a1-9658-0e00cdace4be',\n",
       " '0d8e3b81-a03f-4c4c-9097-1cdd017de50e',\n",
       " '90cd85aa-8942-48e5-bfa4-c80dbca5b83c',\n",
       " 'ddfda17b-5b73-4292-a3e8-da03de5ec5d5',\n",
       " '04851d40-8d1f-4a43-b588-e2d4b910e958',\n",
       " '12de82e7-94b5-4aa4-afa7-d103edf4fa81',\n",
       " '5ca3d8f6-e75b-47ed-91ef-2fdb2ecab843',\n",
       " '00ab75b0-257e-428d-a4e4-1a9bcf66fbd9',\n",
       " 'fe7500f6-ffcc-4657-855f-8e423149c818',\n",
       " '9dd613a6-65d6-42e6-99ad-c9b65278b27c',\n",
       " '324627c1-ceec-44f3-9264-aaf561ff40fa',\n",
       " 'adfd7865-6a62-48b4-9a94-dd78ce7df123',\n",
       " '0955a32f-f7ad-4d12-b198-ef2bba1eddec',\n",
       " '94fec86a-272f-4cd7-a327-3cac84926b95',\n",
       " '143c13dd-32df-4367-a6fb-eb23a857077f',\n",
       " 'a97ebd63-4cf2-4f87-8afa-9c21c16891af',\n",
       " '9e35e8d6-130c-4c37-a61f-89d457ba08fb',\n",
       " 'bb6e8f37-4b9e-49c7-93e7-8b8c6314afc8',\n",
       " 'fcf8dc85-39cf-4ade-9eac-9d19e37d4f6e',\n",
       " '64b6de84-fe79-4105-a572-32dbe093c1eb',\n",
       " '311c5f63-ad11-41a5-879c-dd657fe8f110',\n",
       " '90d259ec-2d14-4939-afc6-b623ee36e471',\n",
       " '5d4aa934-b1e0-43ea-839f-034b90ec75e0',\n",
       " '7b19e71c-ffba-4d07-b537-2f58c71078bf',\n",
       " '0b2f463b-c5c2-43c9-8dbb-ca8628fc7fcd',\n",
       " 'dc146715-e2f6-4381-9218-30bb9f74a1eb',\n",
       " '8c2bfaa7-985e-4a0a-8bbe-1cbec5a275df',\n",
       " 'ed9412e8-ddd4-4f67-8d55-8b40a8f8fc6e',\n",
       " '28c9c692-2d41-419d-91a6-26687e5cfd9a',\n",
       " '1b33289b-99b5-40f4-85e4-8a0c95bafdb2',\n",
       " 'c53595eb-8261-4f33-b584-d25212816eaf',\n",
       " 'a4c94b29-76d5-4cf4-8cb1-08fdd6583370',\n",
       " '739b6643-06b6-4543-a168-58e30af27be9',\n",
       " '5a96542e-a784-46f2-846d-13abe1d5d2eb',\n",
       " '5c74f0ec-2546-4d1a-a033-f90ff2263741',\n",
       " '6dfa2691-9614-4d95-ab16-d58263ea96e2',\n",
       " 'c8d11be1-ed21-4faa-b4ce-8a960ab291eb',\n",
       " 'd27dca53-d1f9-4ef4-a81c-86c30d63179e',\n",
       " 'b769d6ac-45e3-496d-b1d4-598ae49f6c49',\n",
       " 'f1e3e541-5c30-48ca-ab8e-48d390ece3e1',\n",
       " '840f05b2-f14f-4a43-a366-eb79d62913a1',\n",
       " '06e0fe77-58f8-4d85-888a-46409871159b',\n",
       " 'dce68a11-1b77-47e7-bd56-935e75f4a0f6',\n",
       " '0593a9ad-0e3c-4652-9ccb-245b9da280a7',\n",
       " '3167da50-32a8-4913-a61b-b38fc733e2ec',\n",
       " '03b0a0d3-6f81-4d67-aff8-cf78930f26d8',\n",
       " 'c3a3555c-f3b6-4458-a08b-10fae872c525',\n",
       " 'e423290e-4cbb-41b3-aa5a-00b83790d264',\n",
       " '171f403e-f9c2-4cd8-b3b7-a3630c2bf612',\n",
       " '40b8b299-370a-4d51-bc32-adbf27c9217f',\n",
       " '6bb8be9b-7597-4ea9-be5b-be3fac9fc1b0',\n",
       " 'e24b6025-ee93-42d3-9e6b-1939ce420cc7',\n",
       " 'fdab30f2-685b-44d0-b6b1-8d474959b370',\n",
       " '65282107-a622-466e-b430-e0721872e36a',\n",
       " 'ee58c96c-0777-4de3-82f5-62bf547a1141',\n",
       " '9c3e6ee8-8951-4d9a-a088-0a8b38feda9b',\n",
       " 'ad34e625-e8cf-47d9-9bdc-f6c7f267f199',\n",
       " 'dc494fed-2ef0-42e2-bdc0-1a1a317e22f1',\n",
       " '6197f165-e752-4817-a259-48ff4dfe4038',\n",
       " 'b5da5584-c019-45d7-9d62-5655117af69b',\n",
       " '331fca5f-0940-4266-9a69-1a6646fccbe9',\n",
       " 'f5c28f0d-603d-49a1-b614-a5f54ce64cb4',\n",
       " '8217b3f7-7548-4b94-a9af-5f3b5195c074',\n",
       " '7c073f5e-4025-4cd7-8f3e-38ddcff7d501',\n",
       " 'b4ee8e17-1c78-414e-abb0-a3c11eb53e63',\n",
       " '9df6abd5-42d1-4616-8749-047ceb13f3ee',\n",
       " 'c1a88de2-3c0a-40ca-ab90-19fa39a0861b',\n",
       " '91e30e30-8713-467c-b6f8-293e6904c990',\n",
       " '10178e98-5620-4ecb-8e43-6a91095590de',\n",
       " '3c238973-9bc5-4837-ac14-184e5769158f',\n",
       " '8c7ba93e-e381-42b2-ad13-939e60ec7e03',\n",
       " 'd33db3cb-a1f3-4e40-93e9-96a19524f164',\n",
       " '66de2b44-ddd3-4241-97cb-8982686c9f67',\n",
       " 'fb771969-0622-461e-a37d-86aeeea6ecf5',\n",
       " 'c45d31ae-5ccc-4ca7-b6f8-647a928eb89b',\n",
       " '4d44fd33-0340-4098-a6e6-d5a97f9184cf',\n",
       " 'ab44c9c7-e075-4605-8804-bc38eeed89d8',\n",
       " '441e1932-1ac8-4e73-bff8-bf92a4a5500a',\n",
       " '0ee482f1-2e7b-44d5-ac96-b15808e44187',\n",
       " '7d95eb47-3aac-456e-a434-21c703725f10',\n",
       " 'dd143a60-7c18-43b1-947e-bad2f6e525bd',\n",
       " '630a4066-eb66-4ea8-8cc0-f74de505ec83',\n",
       " 'bac419db-ab08-4316-beb3-ae5a031573bd',\n",
       " '3196da0b-6ea4-48f3-89ae-b35eb62c49ab',\n",
       " 'c4aeaaa8-7658-42be-8467-54d8882beb0c',\n",
       " '33fff3e4-12e5-4fa9-86b0-36bf4cc642e2',\n",
       " '121d690d-c77d-4bdb-b1a2-ced952b89b65',\n",
       " '4d85b500-19e4-4075-b1eb-f05535167efd',\n",
       " '9561c79e-65b1-4a62-9266-83fc7609a0d5',\n",
       " 'f26b085c-1963-4116-b5b6-de28fada6d98',\n",
       " '0377247e-34ec-441d-a426-0496b61424b2',\n",
       " 'e2ca179d-0248-4eaf-9cee-e4ea348325cf',\n",
       " '27b1a753-9a10-4ac5-8528-82eb8b4b43bc',\n",
       " '30a18922-82c9-4952-b8d4-b2a9abd5ca3a',\n",
       " '431dbb01-b426-48c9-8b9c-697c7f980edf',\n",
       " 'a1bac696-8f32-4ed5-af89-c18b7bd39aa6',\n",
       " '34d702bf-9c58-4403-8517-64580dee34a8',\n",
       " '468f756c-ca5c-498b-8deb-080491a13d0d',\n",
       " 'e73b4565-567a-43bb-bef5-b33a449f8f5a',\n",
       " 'b1fb21c0-ba60-4175-b9d1-f578390a399b',\n",
       " '5c57657a-1c0f-4a75-8dc3-7c1df015ed29',\n",
       " '92c6f3ef-12f2-44e5-9c5d-98799aa0f4b0',\n",
       " '4ec9677a-6861-459d-aeb1-1687f73cbe25',\n",
       " 'e01cae23-fe81-410e-a1d8-476a5b15d116',\n",
       " '86babb82-175e-4016-beea-65252bed262e',\n",
       " '1f331ba2-a3d9-4ff8-9e08-88742c4d1f5b',\n",
       " '8cb03616-a286-493c-8c50-34cd0981f23c',\n",
       " '3880acea-25ae-4641-b018-f07076a0ca26',\n",
       " '5d289089-0891-4d64-92a7-b350d82740ad',\n",
       " '58a739d5-8283-48f8-b7df-1e411db7a934',\n",
       " '70cc65f1-6191-48ee-baa2-b55bc21a6dc0',\n",
       " '84766fe3-bbcd-49d5-87ae-cac9f27c3c5b',\n",
       " '83e696fb-c8e7-4b0a-8a0c-7d961bac9507',\n",
       " '2836f0ea-7258-42cf-82a9-06b8ce78376b',\n",
       " 'f4232f05-3795-4824-8ae5-f52171272b6e',\n",
       " '1948694a-d5fd-4a3f-9adc-cc1919d9b606',\n",
       " '76904227-e39a-402f-9ff6-e74d4777be3b',\n",
       " 'a928bad2-c66b-4f3d-95e7-1f2a89df256d',\n",
       " '2b01810e-66d9-4dfc-97b6-8e55b58c690d',\n",
       " 'ac36f3fe-5a8a-4807-bbe7-51129b87e7d6',\n",
       " 'f86e0d28-61d4-45ab-bd1c-b0362f874917',\n",
       " '23f149e0-5be2-42d2-9a33-693259b68db3',\n",
       " 'a5d8a457-bc5c-42bc-be43-142884caf7cf',\n",
       " '758779c0-2efb-4c65-bef1-5b1f4e7bda64',\n",
       " '63999fa6-62f9-4b69-9eef-36476b299ac9',\n",
       " '4b651b40-9364-49f4-8bc0-62ad4dd516e5',\n",
       " '76a7ae8e-0e7b-4b67-84ba-e11f454cdf95',\n",
       " '452bbf9a-eebd-425f-8a71-076ec28974e6',\n",
       " '89269c2a-8ca5-4e50-8741-580ba6a61f21',\n",
       " 'd946cfaf-4aa0-458e-946f-2b75af2285cb',\n",
       " '1ffededf-1136-4d99-88bc-a9f9c4941b87',\n",
       " '474f344b-f4f7-4ee6-a442-8b1400d94fff',\n",
       " '6abd7b6a-1d21-42cc-a498-86e961523bd1',\n",
       " '1f3b4424-314d-4c27-a66c-8d010ec984b7',\n",
       " 'a4d188fb-fae2-44e8-902f-984ba99db238',\n",
       " 'fe8ec3a2-19f8-4fd3-8c50-1f3723ec011b',\n",
       " 'f425796a-67a3-4b5a-b4c8-f92b1374902f',\n",
       " '25878633-5c02-4300-818e-c37a4a33f37f',\n",
       " '6c45c4fd-75ac-489c-9a58-4be18d9ccebe',\n",
       " '8a306ffe-aabf-4579-b110-9f35cace2631',\n",
       " 'e913e6a5-893c-4449-96b1-6b0f74c89f67',\n",
       " '597e0406-f7fe-4fc7-9386-6912d747b3ac',\n",
       " '9d6459c2-bc83-4550-92fe-e030f124d144',\n",
       " 'd4472a5a-ec79-4fac-a251-0bf2fb898cc7',\n",
       " 'a0ffa0ed-dd48-41a1-b02c-c6bfc250efbf',\n",
       " '854c7b58-971e-4596-a886-d0e0d4b5f215',\n",
       " '9db41874-4b4c-41bc-9aed-a1e39fe7d78d',\n",
       " 'cae4737e-3f69-4a09-b423-0f9a22b563a4',\n",
       " 'b06bd77d-4f79-48df-8cf7-0a6dc574caec',\n",
       " 'b3e5f9e8-c217-4101-82c2-e76122ee6a95',\n",
       " 'fe9395ee-9da8-416a-b9a7-a7a8b96780d4',\n",
       " '4cae4271-3bb8-4d26-b238-76eef15f4351',\n",
       " '4a82ad44-b36b-4141-be17-25eafabe0f7f',\n",
       " '042b6311-a201-43f2-b415-43e93d0f3399',\n",
       " '4adf3b48-d03b-4821-aae3-56c2f175fa43',\n",
       " '4d0d7d00-4d62-4544-b4bc-883914663d20',\n",
       " 'c0d9f5a3-e02f-4163-bfd2-fb5b642aff7f',\n",
       " '8b0dfbe6-2c90-4d75-b971-81124b17fab4',\n",
       " '44f97399-2cb9-44fb-9420-9db5f716a977',\n",
       " 'acef90f0-67ca-48d2-b22f-2e339275ae6b',\n",
       " '3b17c8e4-7bc0-4a39-9674-838ebfd760fe',\n",
       " '6bdbfe08-9bb6-4feb-a769-32d069819261',\n",
       " '2688f980-04a5-472a-805b-ed9eccb0710f',\n",
       " 'b5428ee4-dd76-48ad-ae27-c05dcb6f5c0f',\n",
       " '640ae24a-2fa8-4c08-bc94-958e47c6b3f3',\n",
       " '5ca7fd64-4eb8-4204-aed4-6dba7ded0c42',\n",
       " '78651d4f-c444-431f-8173-95d0b2e818ba',\n",
       " 'da28a346-56cf-4e3c-a659-ef383adc5f84',\n",
       " 'c72dab38-15db-4206-b6ee-5fa49e47f2b9',\n",
       " 'e12554c4-b7c1-4aab-8cc3-c0321e71fa4f',\n",
       " '98a4d14e-d62c-4451-a6bd-05f68c0bc972',\n",
       " 'aaa07ef3-89ee-4102-90c0-bf43345133ef',\n",
       " '92577134-d64a-4f93-8300-eea9d5aaac31',\n",
       " '89f776ae-d64b-4576-aef5-ee3e7471e850',\n",
       " '047b3eff-a9ac-4772-afaa-48061f27c23b',\n",
       " '89814887-7026-4ee2-b1f1-67a6064c86f9',\n",
       " 'fc3d7047-5122-4a15-80be-75a5c2cf329c',\n",
       " '182dfb43-63ac-4035-a4b8-a8329bd444a0',\n",
       " 'f7b32441-8dfc-4a6a-83bf-2f6744dc0f3d',\n",
       " 'e4a62085-af01-4349-8012-766d7cff448d',\n",
       " '07ad08b3-f3db-477c-817c-03ca73b31a23',\n",
       " '0ac6ffdb-2651-44b1-b032-5ffd605dd809',\n",
       " '7557c0a9-6138-4381-b3b7-600d196b9eb1',\n",
       " '15c26468-ecbe-44f0-9379-4d0087fd162f',\n",
       " '065da9c1-c04d-43f6-b8f9-38b4bd76ff39',\n",
       " 'b705b3e4-91a8-43af-84fc-2a42739cc12d',\n",
       " '79534aae-1452-4689-a200-51f7664c0efb',\n",
       " '404acd06-b730-41c1-9cb3-95baa1faa609',\n",
       " '2a2c19e8-fe11-4584-bc21-39fdaaa4b27c',\n",
       " '3903f8fb-b533-460b-9b18-7d61b2913f2c',\n",
       " '17f37182-cd31-41d9-ac29-64bd1847e1a5',\n",
       " 'e4745def-8fa4-4b3f-b2e0-30d169278441',\n",
       " '376dffaa-4d00-4cc2-94f1-c29e8eaf29d5',\n",
       " '8121ae2c-3ddc-4226-99b0-11d41a3c9c18',\n",
       " '71e1f299-3b73-4f6d-8269-004d6a6c9514',\n",
       " 'c34e4577-66de-42bc-baea-43c2bf21c845',\n",
       " 'cfe33ff2-3201-4d68-8b55-2f733f294854',\n",
       " '72d3fcfc-0ca0-4da7-868f-a04fbbef31bc',\n",
       " '8aa64185-7741-4223-ab05-f8924e1a2812',\n",
       " '576864f7-10aa-49c8-a06b-ca0801b5bb79',\n",
       " '87be7b98-861d-4723-92c2-cae7523d90bc',\n",
       " 'a13dfbd8-8b75-4459-8445-cd68e6e32c46',\n",
       " '03c42cea-61b5-4510-8a17-278f777a0d60',\n",
       " '4634e6e0-5196-48ff-898a-f851427200e2',\n",
       " '3cfa6d85-5eb9-4460-8aa6-a998a950acf0',\n",
       " '98ac2904-9e41-4f43-93b5-f55740914073',\n",
       " '6865f678-8059-4227-aa2c-1fc2d6de28ce',\n",
       " 'e8806186-ce09-4eb3-97b6-ef00fba5297c',\n",
       " '69ee8bab-555d-42af-83b9-405f72173564',\n",
       " '4299af7a-2759-485c-a414-c4b46b24fff4',\n",
       " 'f7a07023-06fb-441e-a1bb-a84cb8611275',\n",
       " 'f9d0fbdc-99a5-4b31-bee1-60e7183da7e1',\n",
       " 'abf022bc-4bce-4d04-8403-c852ab0c3f36',\n",
       " 'f1478e1b-0f04-434f-a8b5-a610e34707fc',\n",
       " '623f6173-7960-467c-bf76-bd77b0cc30e0',\n",
       " 'e659d4b9-09e8-4df4-91e2-a3d1d67934a8',\n",
       " 'c5c4d533-6e7c-4d24-9b95-b2f2e410d298',\n",
       " '117cda69-3ad8-43b8-9fea-1c7a9d320f3c',\n",
       " 'ce5caa9a-8122-4e1e-b945-11a22bb8c0e5',\n",
       " '67bf5133-e6c9-4dfc-991b-253fbe5dc919',\n",
       " '5c2e6c08-404d-49f4-8b79-617e44754b84',\n",
       " 'dd58d1bb-49fe-4f6e-83e8-a14b4d9a972e',\n",
       " 'c4dbf56e-24d7-4497-8747-cb5b6807e965',\n",
       " '4b6cf680-6727-49b2-b7c5-cbd3498f0c1a',\n",
       " '76d8e916-a62e-4d10-940a-25f2b7cb447d',\n",
       " '41e2f1b9-1ba9-4c87-9bbb-be0004fbbb65',\n",
       " 'd7e26899-67d1-4a77-896f-0bb9319d91c7',\n",
       " '17ad569d-fd9a-4a92-bdd0-533064a5da6a',\n",
       " '81e8a3e6-282a-489c-8a8a-3e61fd340c60',\n",
       " '970fbb97-79e1-456c-b853-78be45d157e4',\n",
       " '3c2e4030-a49a-4e21-b4c7-ecf284a21dfa',\n",
       " 'ee156891-3ed4-4321-bea8-7d08b76b3e32',\n",
       " 'caaacf84-7401-481b-b050-aa89a49e0a6d',\n",
       " '43082766-ba8d-4f26-acaf-f7635f7a12b9',\n",
       " 'e45e135f-bf71-471e-bd5e-a40c1e7eaecf',\n",
       " 'f7a99435-d960-444c-b319-3a46aeb70016',\n",
       " 'b509e063-ae42-43e4-8fe4-55d90163a633',\n",
       " '59b0bbf0-c61a-4f36-82d8-2ffd1c0e9753',\n",
       " 'dfaa00bc-731c-43fb-b79c-7ebf484acd3c',\n",
       " 'f2168b9a-d53e-4aa1-b6a3-52cd6988cf90',\n",
       " '4340f799-3480-41da-aff9-194f6c83c409',\n",
       " 'cd1067bb-584a-4e69-898c-f4739f18dd09',\n",
       " '0f2c3697-7a6d-45fd-94cc-d0d6e29d8215',\n",
       " '2b37e8f4-6d4d-49aa-902b-a8118322384f',\n",
       " 'f0b5d3a7-ab35-4890-a446-23b8b636e2df',\n",
       " 'fd517112-1423-45ea-b187-eeeca6d13899',\n",
       " '603c6c3f-c68d-416e-8705-d26424435133',\n",
       " '91a78a5f-08da-43e6-b920-dfa6b45dbd99',\n",
       " '7037b564-5ffb-492a-8008-2ca71e119edc',\n",
       " '8d53da0d-3914-48af-8a9f-c0ca89ed9ced',\n",
       " 'c3c0d319-5146-43b4-b8fe-dc0162c0eb80',\n",
       " 'd0552443-31f7-40df-95b3-be4afa77920f',\n",
       " 'f6226c3b-fb72-453f-8298-2ff392e945ac',\n",
       " '9dc1ee73-14a6-4945-ad26-41b237d76dcd',\n",
       " '4cc08cab-5069-4179-8177-4187902e9a86',\n",
       " '5c2d6a1e-83c5-4b76-abb4-5eae865769ba',\n",
       " 'b60d21c3-55d4-4b70-8e15-df3c68d57b2a',\n",
       " '9db7d010-073e-4fe4-9167-a2f5e821a1b7',\n",
       " '1db3ac0f-e66d-4117-81ff-6e8fc8b6a0a0',\n",
       " 'd91ad575-8ab4-443a-8a30-4b45632f4ad0',\n",
       " '3fa0a5de-c914-4b3c-b405-778d36ff6fe1',\n",
       " '80f6144b-46a4-4bab-9664-02cf3993e580',\n",
       " 'e0238ee4-e5f0-47c9-b61a-1be5f18d2b07',\n",
       " 'f17a5c5f-0ea7-4ee3-aebe-b4da7e3873f9',\n",
       " '559f996b-863c-43ed-af09-c28d28b7f431',\n",
       " '63aac2de-b846-4350-9a25-691c8860d3f2',\n",
       " '758ce019-6984-4d92-8712-6718fab10b63',\n",
       " 'eab8a60f-f783-4e3d-8449-72155b9530b6',\n",
       " 'c83f728f-1546-4aca-a79e-81f26d8d3fe2',\n",
       " 'f48caedc-d235-43d5-b188-cb73402269ce',\n",
       " '9a35b5b3-d8a3-4f95-83a9-5c6be2bb626a',\n",
       " '0e2afde8-2fce-4302-84d5-9bdd515766bd',\n",
       " 'e25290b1-26f2-4b56-9a3f-936d7df860d9',\n",
       " '9f44e5c1-0697-4f74-b216-2ce8bdc252cf',\n",
       " 'a7bc2965-1164-48fc-a326-c38e64c601bc',\n",
       " '03dad8da-4f34-46f7-929e-d9926155d943',\n",
       " 'c309969e-5268-4071-a9b7-9fe0c0d66104',\n",
       " '802115d0-6ffd-48aa-9bd8-df7e0c6f36e3',\n",
       " '3f7c0ea7-ae51-40e2-9d3a-2836ad064790',\n",
       " '23cb2ccc-3382-4414-acb6-4354d2cb8bce',\n",
       " 'caa1ea85-a37c-4a10-9946-fceca264e38f',\n",
       " '0bb7641d-4b14-4a0d-b2cd-42ba90e3a5ef',\n",
       " 'c25105e9-2f23-4bfb-9fdd-4a3bbb68fd00',\n",
       " '01bc1d4d-8274-41d8-8e8b-5881f734d566',\n",
       " 'a179c306-fa7b-4a31-93b6-8302d70915bc',\n",
       " 'f37e8a3a-1123-4d3e-9c0c-a464f84b70dd',\n",
       " 'dde813e9-5a33-41cf-b5ed-2f2466986ba1',\n",
       " 'a121fb5e-bb93-46c9-a74d-40b992fb9111',\n",
       " 'e3b0b3b8-5b18-4400-8fda-ba0807d35dab',\n",
       " '08c88b01-1e11-4f08-8ff5-5a841432fda5',\n",
       " '0b47dd46-4d68-4e39-9901-c57f8bc3957d',\n",
       " '6b3adeff-91f1-4181-abc6-25da3cf20d60',\n",
       " '026d9af0-29b2-479a-bfcb-f14986e48dc7',\n",
       " '8e4cae1c-1fe8-4e12-8a53-72c9aa33c54a',\n",
       " '23d6d7b5-2f65-4fe5-a46d-5b911cc14930',\n",
       " '36899ece-ef87-4895-aa49-523e7ff8b3bd',\n",
       " 'ee7d6f45-04f4-4585-bcb3-074d70fef0ce',\n",
       " '324457a7-ff3b-4e1c-b199-6e7bb8b4d5a1',\n",
       " '36aedcc2-4d26-4328-962c-8a09e00e112b',\n",
       " 'ca13c1f0-4ad8-480e-b656-ac65461368e4',\n",
       " '93140077-727e-4554-9f06-0e89aa5df452',\n",
       " '446866e8-01f8-4c51-a11e-358faa0ce93b',\n",
       " 'de563bf2-eab2-4bc1-a6e9-de53c05592a8',\n",
       " 'f46e5650-c466-4ed2-b9c2-a1860b3c6d36',\n",
       " 'd27540f9-a2db-4230-96bb-c4d03ce3c6fc',\n",
       " '72a4797a-966a-4f2a-a67b-26fc9eed06e5',\n",
       " '25c3d570-3f0c-4678-af8e-85f9f7d2e74d',\n",
       " '935de830-9cac-4e48-b6a4-e17a97e9f2fe',\n",
       " '751c04fa-5a04-41c8-80f0-2d8a1a7c43b9',\n",
       " '6ce1de8f-1c88-4974-9c7f-d387ddce4fa1',\n",
       " '89026324-2b76-42f9-a29d-0a9317dbc1c4',\n",
       " '0fe9e624-133d-4539-9c21-44244cac3810',\n",
       " '0c81d618-7907-46c4-8e11-d9c7b62185fd',\n",
       " '23e371d9-08aa-4000-9030-355eb1fffcc4',\n",
       " '278ad6da-9346-4692-9d6c-661824e66feb',\n",
       " '90061e11-97ee-4aaf-af6b-6d679a747863',\n",
       " 'e11c2ac1-1c87-4bd1-b02b-0c9b9ae11ded',\n",
       " '4ddbb2b0-0fb2-4c4c-bb25-4c7f761bc6d8',\n",
       " 'd8695be2-12df-40a9-900d-75c12f5961cc',\n",
       " '11a8f642-b9c7-43ea-9ef9-d118e36fdf84',\n",
       " 'cda72d7e-fada-45ab-bc00-150974c0cafb',\n",
       " 'be2622c7-7e9d-4a27-a6cd-59df2f5f430b',\n",
       " '06cf1864-4ab9-4394-84cc-6fda94eecc84',\n",
       " 'e8ac87cd-f0e7-4a24-b262-81ce8d71ffb0',\n",
       " '2b0b272f-ea8a-4879-af9d-1e4755dcbd5d',\n",
       " 'ef7c804e-9ccc-44c8-851e-c37df0e74924',\n",
       " 'fd7aa076-19ba-4fb8-8a63-172e5e6cc66f',\n",
       " 'd115df0f-39b7-4c4a-a50f-13f51cc3b3e7',\n",
       " '7b27e3f6-b36f-4de7-bef9-223bf19da8bc',\n",
       " '7be8c94e-b8c6-4746-8f1a-80fd88cdee9c',\n",
       " '2efb49e6-8cac-4996-89c2-efaf37c752d0',\n",
       " '75905865-4e5f-4426-bc23-0b98761635ce',\n",
       " '52580fb4-8fa1-4b60-aed0-c3c530339b6d',\n",
       " 'ebc6be01-b365-4e36-9655-96a6a6af6c25',\n",
       " 'ef0360a6-b69a-4e8f-a341-c62528d72164',\n",
       " '70238886-cc54-4dfa-94d4-2f02c5ef089c',\n",
       " '92a0cd49-ce10-40a0-a820-bd8aa0a29240',\n",
       " 'bfcc6f14-6a81-4266-b9d5-9ac6e8efa927',\n",
       " 'f566492b-a838-4f2c-a4fc-87171e733700',\n",
       " 'b0e4d91f-5b4c-4e20-87bf-3af50b3cbe5d',\n",
       " '4e459651-ea7f-48ff-b7bc-22bf3e77e314',\n",
       " '1bb32f58-b876-48f9-b653-bd40d98ac79d',\n",
       " 'e7681930-9f5e-404c-9221-bc40ea4d2430',\n",
       " '46f5bc42-50b4-4123-b7c3-e5c79d4dfb65',\n",
       " 'c1245220-e72f-470f-95de-8d4e11e18394',\n",
       " 'b563178f-26e0-4c5d-8513-cafa78c6dc4b',\n",
       " '553ffc7d-3c86-4c26-9425-165880d7b886',\n",
       " '44c9ec74-1360-4454-bf89-a3730a13cd92',\n",
       " '73e8aa2a-3c6d-48ae-81e3-a038b2324d13',\n",
       " 'c5272d86-1e44-471b-abd9-60fed551034e',\n",
       " 'af32a05b-176b-464f-9bd8-fd0fad9a06de',\n",
       " 'ff43c670-3713-4229-a825-602edf8ec279',\n",
       " '73342d39-f550-473a-ada7-dbd653886e85',\n",
       " '67301664-cf35-4016-9fc2-98ebdbb3a2ad',\n",
       " '89e2cb3f-b24b-4958-9e31-e2b7191e27df',\n",
       " '0539c28a-3a35-4fe4-be6e-96d84b514847',\n",
       " 'e6dbded8-41d3-489f-ae2c-b306fffe482c',\n",
       " 'f462ce3a-032a-4c5c-a952-a5daaa3df93c',\n",
       " 'a34c6fda-61db-419d-9cd2-37e359f06cc7',\n",
       " 'a31eb408-b745-4161-8d10-9b37ce877b01',\n",
       " '727c6a5b-dd61-4b04-b3fa-19ba904162ac',\n",
       " '7892c588-913a-434a-bc18-efa798b173e6',\n",
       " 'c7ea671d-9886-4297-b623-ac6aa77ca0e2',\n",
       " 'd2826c94-6b9b-4409-b0ef-f9cac03f9276',\n",
       " 'ad3b9da6-5a0d-4e69-a40d-18a55abf6331',\n",
       " 'c2ec3c9d-c640-4de3-a2fb-fdc9e77c4ae3',\n",
       " 'b21af657-197a-4d03-8dfa-199d0a4c7b2e',\n",
       " '569241fb-dd51-4f60-bfa1-6b3f44bc0167',\n",
       " 'c4a554aa-245a-4b4c-930f-2cb777b4128e',\n",
       " '4a309ae4-997c-475d-b525-19f77ee8fd4e',\n",
       " '0bd80f3c-9841-46c9-a4d6-2048dfbd5202',\n",
       " '568aa9cb-94a6-44b6-9078-d741a940dc34']"
      ]
     },
     "execution_count": 40,
     "metadata": {},
     "output_type": "execute_result"
    }
   ],
   "source": [
    "vectorstore = Pinecone(index, embedding_function.embed_query, \"text\")\n",
    "\n",
    "vectorstore.add_texts(docs, metadatas, ids)"
   ]
  },
  {
   "cell_type": "code",
   "execution_count": 38,
   "metadata": {},
   "outputs": [
    {
     "data": {
      "text/plain": [
       "'Travel 307\\nmorning, generally coinciding with the peak in body temperature. Hence, when travelling across time zones to compete, it is important to assess what time of day the competition is to be staged when deciding how many days to leave prior to competition, as well as the impact of the travel duration and mode itself.\\nCaffeine can be considered for use in order to pro-\\nvide temporary relief of fatigue, but should be avoided in the late afternoon/evening where onset of sleep early in the evening is important. Some research has been undertaken regarding the manipulation of macronutrient content of meals (e.g. CHO, protein) to improve sleep onset and maintenance, although this has not been undertaken with specific reference to jet lag. There is some evidence to suggest that the CHO content of a meal can impact on the onset of sleep since the presence of insulin allows the amino acid tryptophan a competitive advantage in crossing the blood–brain barrier for its conversion to seroto-nin. In essence, it is useful to encourage athletes to consume an evening meal containing CHO in order to aid sleep onset as well as ensure adequate glycogen stores.\\n22.3 Meal service options when travelling\\nMany athletes find it challenging to adapt to a differ-ent supply of food from their home environment. There are many ways athletes, teams and staff can manage food access when travelling, all of which have benefits and problems associated with them. T eam Table 22.1 Recommendations for the use of bright light to adjust body clock after time-zone transitions.\\nLanham_c22.indd   307Lanham_c22.indd   307 7/28/2011   4:43:45 PM7/28/2011   4:43:45 PMText not available in this digital edition.'"
      ]
     },
     "execution_count": 38,
     "metadata": {},
     "output_type": "execute_result"
    }
   ],
   "source": [
    "docs[0].page_content"
   ]
  },
  {
   "cell_type": "code",
   "execution_count": 41,
   "metadata": {},
   "outputs": [],
   "source": [
    "docsearch = Pinecone.from_existing_index(indexname, embedding_function)"
   ]
  },
  {
   "cell_type": "code",
   "execution_count": 42,
   "metadata": {},
   "outputs": [],
   "source": [
    "query = \"Tell me more about nutrition for gaining muscle mass.\"\n",
    "docs = docsearch.similarity_search(query)"
   ]
  },
  {
   "cell_type": "code",
   "execution_count": 43,
   "metadata": {},
   "outputs": [
    {
     "name": "stdout",
     "output_type": "stream",
     "text": [
      "Losing, Gaining and Making Weight for Athletes 227\n",
      "nutrient alone, especially when the intake of either is less than optimal. There is also preliminary evidence suggesting that concurrent fat ingestion enhances amino acid uptake into peripheral tissues. The mech-anism by which this occurs remains to be elucidated, although a slowing of protein digestion or associated increase in total energy intake appears plausible.Energy intake and lean mass gainWhile dietary protein is important, total daily energy intake also plays a critical role. At any given protein intake, increasing energy intake creates a more  positive nitrogen balance, presumably because the additional energy allows more of the ingested protein to be directed to protein synthesis. A positive energy balance also creates an anabolic hormonal profile, promoting lean body mass gain, even when under-taken independent of resistance exercise. In fact, upwards of half the weight gain may come from lean body mass, although individual responses vary mark-edly. Despite long-standing awareness of this, little is known about the optimal energy surplus to promote gains in muscle mass. Amongst sedentary individu-als, the energy cost of weight gain is about 34 000 kJ/kg gained (Forbes et al ., 1986), although this also \n",
      " varies. While interesting, application of these findings to resistance-trained athletes aiming to gain only lean mass is problematic. The optimal energy surplus to maximise gains in muscle mass while minimising the impact on body fat is undetermined as is the nutrient composition of the energy surplus and its distribu-tion throughout the day or training week.\n",
      "Estimating daily energy needs of athletes is notori-\n",
      "ously difficult because of the variability in expendi-ture associated with training. Creation of a moderate energy surplus (∼1000–4000 kJ/day) presuming the athlete is weight stable (and thus in energy balance) and monitoring adaptations closely via regular assessment of body mass and composition is usually effective. This ‘monitored titration’ of energy intake can result in lean mass gains of 0.25–0.5 kg/week with no appreciable change in body fat. Faster rates of gain are more likely to result in fat deposition. The extent of energy surplus required depends on the individual athlete, the genetic profile, resistance training history and presenting body  composition plus time frame available to prioritise muscle hyper-trophy. The source of additional energy may depend on practical issues, in particular a requirement to fuel other training and opportunities to increase food/fluids throughout the day.\n",
      "For some athletes, increasing energy intake can be \n",
      "a real challenge. Frequent and/or prolonged training sessions can limit opportunities for meals and snacks while intense training can curb appetite (see p. 215). Novel strategies like eating energy-dense snacks and drinks may overcome such obstacles. Failure to recognise the importance of increased energy intake will compromise resistance training adaptations. Regular athlete support and monitoring is required with significant contribution from the sports coach, conditioning specialist and dietitian required.\n",
      "17.8 Role of physique assessment\n",
      "Physique assessment enables the effectiveness of diet and training interventions to be evaluated and if necessary modified. Anthropometric, bioelectrical impedance (BIA), radiographic (computed tomog-raphy, magnetic resonance imaging, dual energy X-ray absorptiometry or DEXA) and metabolic  (creatinine, 3-methylhistidine) techniques are avail-able. Suitable selection requires evaluation of both technical factors (e.g. safety, validity, precision and accuracy) and prac tical factors (e.g. financial impli-cations,  portability, invasiveness, time effectiveness, and available technical expertise). Consideration must be given to assessment methodologies that accom modate measurement of unique physique traits characteristic of some athletes, including  particularly tall, broad and muscular individuals or those with extremely low body fat levels. Routine monitoring of physique traits amongst athletes is typically undertaken using one of the following three techniques: DEXA, BIA or surface anthropometry.Dual energy X-ray absorptiometryDEXA, originally developed for the diagnosis of osteoporosis, remains the gold standard tool for bone density assessment. In recent years, DEXA has also been widely used as a method to assess soft tissue body composition. In addition to fat mass (FM) and fat-free mass (FFM), DEXA provides information on regional body composition (i.e. arms, legs, trunk, left/right differences), which is particularly appealing to athletes undertaking targeted training programmes or injury rehabilitation. Whole-body scans are rapid, \n",
      "Lanham_c17.indd   227Lanham_c17.indd   227 7/28/2011   4:44:19 PM7/28/2011   4:44:19 PM\n"
     ]
    }
   ],
   "source": [
    "print(docs[0].page_content)"
   ]
  }
 ],
 "metadata": {
  "kernelspec": {
   "display_name": ".venv",
   "language": "python",
   "name": "python3"
  },
  "language_info": {
   "codemirror_mode": {
    "name": "ipython",
    "version": 3
   },
   "file_extension": ".py",
   "mimetype": "text/x-python",
   "name": "python",
   "nbconvert_exporter": "python",
   "pygments_lexer": "ipython3",
   "version": "3.11.4"
  },
  "orig_nbformat": 4
 },
 "nbformat": 4,
 "nbformat_minor": 2
}
