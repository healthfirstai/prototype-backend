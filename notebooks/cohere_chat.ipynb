{
 "cells": [
  {
   "cell_type": "code",
   "execution_count": 2,
   "metadata": {},
   "outputs": [],
   "source": [
    "from langchain.llms import Cohere\n",
    "from langchain import PromptTemplate, LLMChain\n",
    "import os\n",
    "from dotenv import load_dotenv\n",
    "\n",
    "load_dotenv()\n",
    "\n",
    "COHERE_API_KEY = os.getenv(\"COHERE_API_KEY\") or \"\"\n",
    "OPENAI_API_KEY = os.getenv(\"OPENAI_API_KEY\") or \"\"\n",
    "\n",
    "# Create the PromptTemplate\n",
    "template = \"Question: {question}\\nAnswer: Let's think step by step.\""
   ]
  },
  {
   "cell_type": "code",
   "execution_count": 24,
   "metadata": {},
   "outputs": [
    {
     "name": "stdout",
     "output_type": "stream",
     "text": [
      "\n",
      "\n",
      "\u001b[1m> Entering new  chain...\u001b[0m\n",
      "Prompt after formatting:\n",
      "\u001b[32;1m\u001b[1;3mThe following is a conversation between a human and an expert fitness trainer who specializes in nutrition and exercise science. The fitness trainer is talkative and provides lots of specific details from its context. If the fitness trainer does not know the answer to a question, it truthfully says it does not know.\n",
      "\n",
      "Current conversation:\n",
      "\n",
      "Human: Hi there!\n",
      "Fitness Trainer:\u001b[0m\n",
      "\n",
      "\u001b[1m> Finished chain.\u001b[0m\n"
     ]
    },
    {
     "data": {
      "text/plain": [
       "' Hi! How can I help you?'"
      ]
     },
     "execution_count": 24,
     "metadata": {},
     "output_type": "execute_result"
    }
   ],
   "source": [
    "from langchain.memory import ConversationBufferMemory\n",
    "from langchain.llms import OpenAI\n",
    "from langchain.chains import ConversationChain\n",
    "\n",
    "\n",
    "llm = Cohere(\n",
    "    client=None,\n",
    "    cohere_api_key=COHERE_API_KEY,\n",
    "    model=\"command-nightly\",\n",
    "    temperature=0,\n",
    ")\n",
    "DEFAULT_TEMPLATE = \"\"\"The following is a conversation between a human and an expert fitness trainer who specializes in nutrition and exercise science. The fitness trainer is talkative and provides lots of specific details from its context. If the fitness trainer does not know the answer to a question, it truthfully says it does not know.\n",
    "\n",
    "Current conversation:\n",
    "{history}\n",
    "Human: {input}\n",
    "Fitness Trainer:\"\"\"\n",
    "PROMPT = PromptTemplate(input_variables=[\"history\", \"input\"], template=DEFAULT_TEMPLATE)\n",
    "\n",
    "conversation = ConversationChain(\n",
    "    llm=llm,\n",
    "    verbose=True,\n",
    "    prompt=PROMPT,\n",
    "    memory=ConversationBufferMemory(ai_prefix=\"Fitness Trainer\"),\n",
    ")\n",
    "conversation.predict(input=\"Hi there!\")"
   ]
  },
  {
   "cell_type": "code",
   "execution_count": 25,
   "metadata": {},
   "outputs": [
    {
     "name": "stdout",
     "output_type": "stream",
     "text": [
      "\n",
      "\n",
      "\u001b[1m> Entering new  chain...\u001b[0m\n",
      "Prompt after formatting:\n",
      "\u001b[32;1m\u001b[1;3mThe following is a conversation between a human and an expert fitness trainer who specializes in nutrition and exercise science. The fitness trainer is talkative and provides lots of specific details from its context. If the fitness trainer does not know the answer to a question, it truthfully says it does not know.\n",
      "\n",
      "Current conversation:\n",
      "Human: Hi there!\n",
      "Fitness Trainer:  Hi! How can I help you?\n",
      "Human: What is a good 5 day workout split given that I only have access to kettle bells and dumbells. I want to build muscle\n",
      "Fitness Trainer:\u001b[0m\n",
      "\n",
      "\u001b[1m> Finished chain.\u001b[0m\n"
     ]
    },
    {
     "data": {
      "text/plain": [
       "'\\nHere is a 5-day workout split that you can follow to build muscle using only kettle bells and dumbbells:\\n\\nDay 1:\\n\\nWarm up: 5-10 minutes of light cardio and dynamic stretching\\nBack and biceps: 5 sets of 8-12 back exercises (e.g. pulldowns, rows, lat-pulldowns) with 8-12 reps and 3-4 sets of 6-8 bicep exercises (e.g. bicep curls, hammer curls, concentration curls) with 8-12 reps\\nDay 2:\\n\\nWarm up: 5-10 minutes of light cardio and dynamic stretching\\nQuadriceps and hamstrings: 5 sets of 6-8 quadricep exercises (e.g. leg press, lunges, leg extensions) with 8-12 reps and 3-4 sets of 6-8 hamstring exercises (e.g. deadlifts, Romanian deadlifts, glute-ham raises) with 8-12 reps\\nDay 3:\\n\\nWarm up: 5-10 minutes of light cardio and dynamic stretching\\nChest and triceps: 5 sets of 6-8 Chest exercises (e.g. bench press, dumbbell press, cable flys) with'"
      ]
     },
     "execution_count": 25,
     "metadata": {},
     "output_type": "execute_result"
    }
   ],
   "source": [
    "conversation.predict(\n",
    "    input=\"What is a good 5 day workout split given that I only have access to kettle bells and dumbells. I want to build muscle\"\n",
    ")"
   ]
  },
  {
   "cell_type": "code",
   "execution_count": 26,
   "metadata": {},
   "outputs": [
    {
     "name": "stdout",
     "output_type": "stream",
     "text": [
      "\n",
      "\n",
      "\u001b[1m> Entering new  chain...\u001b[0m\n",
      "Prompt after formatting:\n",
      "\u001b[32;1m\u001b[1;3mThe following is a conversation between a human and an expert fitness trainer who specializes in nutrition and exercise science. The fitness trainer is talkative and provides lots of specific details from its context. If the fitness trainer does not know the answer to a question, it truthfully says it does not know.\n",
      "\n",
      "Current conversation:\n",
      "Human: Hi there!\n",
      "Fitness Trainer:  Hi! How can I help you?\n",
      "Human: What is a good 5 day workout split given that I only have access to kettle bells and dumbells. I want to build muscle\n",
      "Fitness Trainer: \n",
      "Here is a 5-day workout split that you can follow to build muscle using only kettle bells and dumbbells:\n",
      "\n",
      "Day 1:\n",
      "\n",
      "Warm up: 5-10 minutes of light cardio and dynamic stretching\n",
      "Back and biceps: 5 sets of 8-12 back exercises (e.g. pulldowns, rows, lat-pulldowns) with 8-12 reps and 3-4 sets of 6-8 bicep exercises (e.g. bicep curls, hammer curls, concentration curls) with 8-12 reps\n",
      "Day 2:\n",
      "\n",
      "Warm up: 5-10 minutes of light cardio and dynamic stretching\n",
      "Quadriceps and hamstrings: 5 sets of 6-8 quadricep exercises (e.g. leg press, lunges, leg extensions) with 8-12 reps and 3-4 sets of 6-8 hamstring exercises (e.g. deadlifts, Romanian deadlifts, glute-ham raises) with 8-12 reps\n",
      "Day 3:\n",
      "\n",
      "Warm up: 5-10 minutes of light cardio and dynamic stretching\n",
      "Chest and triceps: 5 sets of 6-8 Chest exercises (e.g. bench press, dumbbell press, cable flys) with\n",
      "Human: How am I supposed to do pulldowns with kettlebells?\n",
      "Fitness Trainer:\u001b[0m\n",
      "\n",
      "\u001b[1m> Finished chain.\u001b[0m\n"
     ]
    },
    {
     "data": {
      "text/plain": [
       "\"\\nTo do pulldowns with kettlebells, you can either use a pull-up bar or a smith machine. If you use a pull-up bar, you will need to attach the kettlebell to the bar using a kettlebell clip or carabiner. Then, you can pull the kettlebell down towards your chest using your back and bicep muscles. If you use a smith machine, you will need to place the kettlebell on the bar and then you can pull it down towards your chest using your back and bicep muscles.\\n\\nIt's important to use proper form when doing pulldowns with kettlebells to avoid injury. Make sure to keep your back straight and your core engaged throughout the exercise. Start with lighter weights and gradually increase the weight as you become more comfortable with the exercise.\""
      ]
     },
     "execution_count": 26,
     "metadata": {},
     "output_type": "execute_result"
    }
   ],
   "source": [
    "conversation.predict(input=\"How am I supposed to do pulldowns with kettlebells?\")"
   ]
  },
  {
   "cell_type": "code",
   "execution_count": 8,
   "metadata": {},
   "outputs": [
    {
     "name": "stdout",
     "output_type": "stream",
     "text": [
      "\n",
      "\n",
      "\u001b[1m> Entering new  chain...\u001b[0m\n",
      "Prompt after formatting:\n",
      "\u001b[32;1m\u001b[1;3mAssistant is a large language model trained by OpenAI.\n",
      "\n",
      "Assistant is designed to be able to assist with a wide range of tasks, from answering simple questions to providing in-depth explanations and discussions on a wide range of topics. As a language model, Assistant is able to generate human-like text based on the input it receives, allowing it to engage in natural-sounding conversations and provide responses that are coherent and relevant to the topic at hand.\n",
      "\n",
      "Assistant is constantly learning and improving, and its capabilities are constantly evolving. It is able to process and understand large amounts of text, and can use this knowledge to provide accurate and informative responses to a wide range of questions. Additionally, Assistant is able to generate its own text based on the input it receives, allowing it to engage in discussions and provide explanations and descriptions on a wide range of topics.\n",
      "\n",
      "Overall, Assistant is a powerful tool that can help with a wide range of tasks and provide valuable insights and information on a wide range of topics. Whether you need help with a specific question or just want to have a conversation about a particular topic, Assistant is here to assist.\n",
      "\n",
      "\n",
      "Human: Hi there!\n",
      "Assistant:\u001b[0m\n",
      "\n",
      "\u001b[1m> Finished chain.\u001b[0m\n"
     ]
    },
    {
     "data": {
      "text/plain": [
       "' Hi there! How can I help you?'"
      ]
     },
     "execution_count": 8,
     "metadata": {},
     "output_type": "execute_result"
    }
   ],
   "source": [
    "from langchain import OpenAI, ConversationChain, LLMChain, PromptTemplate\n",
    "from langchain.memory import ConversationBufferWindowMemory\n",
    "\n",
    "\n",
    "template = \"\"\"Assistant is a large language model trained by OpenAI.\n",
    "\n",
    "Assistant is designed to be able to assist with a wide range of tasks, from answering simple questions to providing in-depth explanations and discussions on a wide range of topics. As a language model, Assistant is able to generate human-like text based on the input it receives, allowing it to engage in natural-sounding conversations and provide responses that are coherent and relevant to the topic at hand.\n",
    "\n",
    "Assistant is constantly learning and improving, and its capabilities are constantly evolving. It is able to process and understand large amounts of text, and can use this knowledge to provide accurate and informative responses to a wide range of questions. Additionally, Assistant is able to generate its own text based on the input it receives, allowing it to engage in discussions and provide explanations and descriptions on a wide range of topics.\n",
    "\n",
    "Overall, Assistant is a powerful tool that can help with a wide range of tasks and provide valuable insights and information on a wide range of topics. Whether you need help with a specific question or just want to have a conversation about a particular topic, Assistant is here to assist.\n",
    "\n",
    "{history}\n",
    "Human: {human_input}\n",
    "Assistant:\"\"\"\n",
    "\n",
    "prompt = PromptTemplate(input_variables=[\"history\", \"human_input\"], template=template)\n",
    "\n",
    "\n",
    "chatgpt_chain = LLMChain(\n",
    "    llm=OpenAI(\n",
    "        client=None,\n",
    "        temperature=0,\n",
    "        model=\"text-davinci-003\",\n",
    "        openai_api_key=OPENAI_API_KEY,\n",
    "    ),\n",
    "    prompt=prompt,\n",
    "    verbose=True,\n",
    "    memory=ConversationBufferWindowMemory(k=2),\n",
    ")\n",
    "chatgpt_chain.predict(human_input=\"Hi there!\")"
   ]
  },
  {
   "cell_type": "code",
   "execution_count": 9,
   "metadata": {},
   "outputs": [
    {
     "name": "stdout",
     "output_type": "stream",
     "text": [
      "\n",
      "\n",
      "\u001b[1m> Entering new  chain...\u001b[0m\n",
      "Prompt after formatting:\n",
      "\u001b[32;1m\u001b[1;3mAssistant is a large language model trained by OpenAI.\n",
      "\n",
      "Assistant is designed to be able to assist with a wide range of tasks, from answering simple questions to providing in-depth explanations and discussions on a wide range of topics. As a language model, Assistant is able to generate human-like text based on the input it receives, allowing it to engage in natural-sounding conversations and provide responses that are coherent and relevant to the topic at hand.\n",
      "\n",
      "Assistant is constantly learning and improving, and its capabilities are constantly evolving. It is able to process and understand large amounts of text, and can use this knowledge to provide accurate and informative responses to a wide range of questions. Additionally, Assistant is able to generate its own text based on the input it receives, allowing it to engage in discussions and provide explanations and descriptions on a wide range of topics.\n",
      "\n",
      "Overall, Assistant is a powerful tool that can help with a wide range of tasks and provide valuable insights and information on a wide range of topics. Whether you need help with a specific question or just want to have a conversation about a particular topic, Assistant is here to assist.\n",
      "\n",
      "Human: Hi there!\n",
      "AI:  Hi there! How can I help you?\n",
      "Human: What is a good 5 day workout split given that I only have access to kettle bells and dumbells. I want to build muscle. Please build me a plan\n",
      "Assistant:\u001b[0m\n",
      "\n",
      "\u001b[1m> Finished chain.\u001b[0m\n"
     ]
    },
    {
     "data": {
      "text/plain": [
       "' Sure, I can help you with that. Here is a 5-day workout split that you can use to build muscle with kettle bells and dumbbells:\\n\\nDay 1: Chest and Back\\n\\n- Chest press with kettlebells\\n- Bent-over rows with kettlebells\\n- Push-ups\\n- Pull-ups\\n\\nDay 2: Legs\\n\\n- Squats with kettlebells\\n- Lunges with kettlebells\\n- Calf raises with kettlebells\\n- Step-ups with kettlebells\\n\\nDay 3: Shoulders and Arms\\n\\n- Shoulder press with kettlebells\\n- Bicep curls with dumbbells\\n- Tricep extensions with dumbbells\\n- Lateral raises with dumbbells\\n\\nDay 4: Core\\n\\n- Plank\\n- Russian twists with kettlebells\\n- Bicycle crunches\\n- Reverse crunches\\n\\nDay 5: Cardio\\n\\n- Running\\n- Jumping jacks\\n- Burpees\\n- High knees\\n\\nI hope this helps! Let me know if you have any other questions.'"
      ]
     },
     "execution_count": 9,
     "metadata": {},
     "output_type": "execute_result"
    }
   ],
   "source": [
    "chatgpt_chain.predict(\n",
    "    human_input=\"What is a good 5 day workout split given that I only have access to kettle bells and dumbells. I want to build muscle. Please build me a plan\"\n",
    ")"
   ]
  },
  {
   "cell_type": "code",
   "execution_count": 29,
   "metadata": {},
   "outputs": [
    {
     "name": "stdout",
     "output_type": "stream",
     "text": [
      "\n",
      "\n",
      "\u001b[1m> Entering new  chain...\u001b[0m\n",
      "Prompt after formatting:\n",
      "\u001b[32;1m\u001b[1;3mFitnessAI is an expert in nutritional and exercise science.\n",
      "\n",
      "FitnessAI is designed to be able to assist with a wide range of fitness and nutrition related tasks, from answering simple questions to providing in-depth explanations and discussions on fitness topics. As a language model, FitnessAI is able to generate human-like text based on the input it receives, allowing it to engage in natural-sounding conversations and provide responses that are coherent and relevant to the topic at hand.\n",
      "\n",
      "FitnessAI's primary objective is to create a personalized fitness plan for the human.\n",
      "\n",
      "Here is an example for a 5 day workout split.\n",
      "\n",
      "Day 1: Chest and Triceps\n",
      "\n",
      "    Bench Press: 4 sets of 8-10 reps\n",
      "    Incline Dumbbell Press: 3 sets of 10-12 reps\n",
      "    Chest Flyes: 3 sets of 10-12 reps\n",
      "    Tricep Dips: 3 sets of 10-12 reps\n",
      "    Tricep Pushdowns: 3 sets of 10-12 reps\n",
      "\n",
      "Day 2: Back and Biceps\n",
      "\n",
      "    Deadlifts: 4 sets of 6-8 reps\n",
      "    Bent-Over Rows: 3 sets of 8-10 reps\n",
      "    Lat Pulldowns: 3 sets of 10-12 reps\n",
      "    Barbell Curls: 3 sets of 10-12 reps\n",
      "    Hammer Curls: 3 sets of 10-12 reps\n",
      "\n",
      "\n",
      "Human: Hi there!\n",
      "Assistant:\u001b[0m\n",
      "\n",
      "\u001b[1m> Finished chain.\u001b[0m\n"
     ]
    },
    {
     "data": {
      "text/plain": [
       "' Hi! How can I help you?'"
      ]
     },
     "execution_count": 29,
     "metadata": {},
     "output_type": "execute_result"
    }
   ],
   "source": [
    "from langchain import OpenAI, ConversationChain, LLMChain, PromptTemplate\n",
    "from langchain.memory import ConversationBufferWindowMemory\n",
    "\n",
    "\n",
    "template = \"\"\"FitnessAI is an expert in nutritional and exercise science.\n",
    "\n",
    "FitnessAI is designed to be able to assist with a wide range of fitness and nutrition related tasks, from answering simple questions to providing in-depth explanations and discussions on fitness topics. As a language model, FitnessAI is able to generate human-like text based on the input it receives, allowing it to engage in natural-sounding conversations and provide responses that are coherent and relevant to the topic at hand.\n",
    "\n",
    "FitnessAI's primary objective is to create a personalized fitness plan for the human.\n",
    "\n",
    "Here is an example for a 5 day workout split.\n",
    "\n",
    "Day 1: Chest and Triceps\n",
    "\n",
    "    Bench Press: 4 sets of 8-10 reps\n",
    "    Incline Dumbbell Press: 3 sets of 10-12 reps\n",
    "    Chest Flyes: 3 sets of 10-12 reps\n",
    "    Tricep Dips: 3 sets of 10-12 reps\n",
    "    Tricep Pushdowns: 3 sets of 10-12 reps\n",
    "\n",
    "Day 2: Back and Biceps\n",
    "\n",
    "    Deadlifts: 4 sets of 6-8 reps\n",
    "    Bent-Over Rows: 3 sets of 8-10 reps\n",
    "    Lat Pulldowns: 3 sets of 10-12 reps\n",
    "    Barbell Curls: 3 sets of 10-12 reps\n",
    "    Hammer Curls: 3 sets of 10-12 reps\n",
    "\n",
    "{history}\n",
    "Human: {human_input}\n",
    "Assistant:\"\"\"\n",
    "\n",
    "prompt = PromptTemplate(input_variables=[\"history\", \"human_input\"], template=template)\n",
    "\n",
    "\n",
    "chatgpt_chain = LLMChain(\n",
    "    llm=Cohere(\n",
    "        cohere_api_key=COHERE_API_KEY,\n",
    "    ),\n",
    "    prompt=prompt,\n",
    "    verbose=True,\n",
    "    memory=ConversationBufferWindowMemory(k=2),\n",
    ")\n",
    "chatgpt_chain.predict(human_input=\"Hi there!\")"
   ]
  },
  {
   "cell_type": "code",
   "execution_count": 30,
   "metadata": {},
   "outputs": [
    {
     "name": "stdout",
     "output_type": "stream",
     "text": [
      "\n",
      "\n",
      "\u001b[1m> Entering new  chain...\u001b[0m\n",
      "Prompt after formatting:\n",
      "\u001b[32;1m\u001b[1;3mFitnessAI is an expert in nutritional and exercise science.\n",
      "\n",
      "FitnessAI is designed to be able to assist with a wide range of fitness and nutrition related tasks, from answering simple questions to providing in-depth explanations and discussions on fitness topics. As a language model, FitnessAI is able to generate human-like text based on the input it receives, allowing it to engage in natural-sounding conversations and provide responses that are coherent and relevant to the topic at hand.\n",
      "\n",
      "FitnessAI's primary objective is to create a personalized fitness plan for the human.\n",
      "\n",
      "Here is an example for a 5 day workout split.\n",
      "\n",
      "Day 1: Chest and Triceps\n",
      "\n",
      "    Bench Press: 4 sets of 8-10 reps\n",
      "    Incline Dumbbell Press: 3 sets of 10-12 reps\n",
      "    Chest Flyes: 3 sets of 10-12 reps\n",
      "    Tricep Dips: 3 sets of 10-12 reps\n",
      "    Tricep Pushdowns: 3 sets of 10-12 reps\n",
      "\n",
      "Day 2: Back and Biceps\n",
      "\n",
      "    Deadlifts: 4 sets of 6-8 reps\n",
      "    Bent-Over Rows: 3 sets of 8-10 reps\n",
      "    Lat Pulldowns: 3 sets of 10-12 reps\n",
      "    Barbell Curls: 3 sets of 10-12 reps\n",
      "    Hammer Curls: 3 sets of 10-12 reps\n",
      "\n",
      "Human: Hi there!\n",
      "AI:  Hi! How can I help you?\n",
      "Human: I am a 21 year old man looking to build muscle. Please build me a 5 day workout plan. I want to workout about 1 hour a day. Include the exercises for each day and the number of sets and reps. In the plan, include only exercises that can be done with either kettlebells or dumbbells. Let's think step by step\n",
      "Assistant:\u001b[0m\n",
      "\n",
      "\u001b[1m> Finished chain.\u001b[0m\n"
     ]
    },
    {
     "data": {
      "text/plain": [
       "' Here is a 5-day workout plan that you can follow to build muscle using either kettlebells or dumbbells:\\n\\nDay 1: Chest and Triceps\\n\\n    Bench Press: 4 sets of 8-10 reps\\n    Incline Dumbbell Press: 3 sets of 10-12 reps\\n    Chest Flyes: 3 sets of 10-12 reps\\n    Tricep Dips: 3 sets of 10-12 reps\\n    Tricep Pushdowns: 3 sets of 10-12 reps\\n\\nDay 2: Back and Biceps\\n\\n    Deadlifts: 4 sets of 6-8 reps\\n    Bent-Over Rows: 3 sets of 8-10 reps\\n    Lat Pulldowns: 3 sets of 10-12 reps\\n    Barbell Curls: 3 sets of 10-12 reps\\n    Hammer Curls: 3 sets of 10-12 reps\\n\\nDay 3: Shoulders and Abs\\n\\n    Overhead Press: 4 sets of 6-8 reps\\n    Lateral Raises: 3 sets of 8-10 reps\\n    Front Raises: 3 sets of 10-12 reps\\n    Crunches: 3 sets of 10-12 reps\\n    Russian Twists: 3 sets of 10-12 reps\\n\\nDay 4: Legs\\n\\n    Squat Jumps: 4 sets of'"
      ]
     },
     "execution_count": 30,
     "metadata": {},
     "output_type": "execute_result"
    }
   ],
   "source": [
    "chatgpt_chain.predict(\n",
    "    human_input=\"I am a 21 year old man looking to build muscle. Please build me a 5 day workout plan. I want to workout about 1 hour a day. Include the exercises for each day and the number of sets and reps. In the plan, include only exercises that can be done with either kettlebells or dumbbells. Let's think step by step\"\n",
    ")"
   ]
  },
  {
   "cell_type": "code",
   "execution_count": 31,
   "metadata": {},
   "outputs": [
    {
     "name": "stdout",
     "output_type": "stream",
     "text": [
      "\n",
      "\n",
      "\u001b[1m> Entering new  chain...\u001b[0m\n",
      "Prompt after formatting:\n",
      "\u001b[32;1m\u001b[1;3mFitnessAI is an expert in nutritional and exercise science.\n",
      "\n",
      "FitnessAI is designed to be able to assist with a wide range of fitness and nutrition related tasks, from answering simple questions to providing in-depth explanations and discussions on fitness topics. As a language model, FitnessAI is able to generate human-like text based on the input it receives, allowing it to engage in natural-sounding conversations and provide responses that are coherent and relevant to the topic at hand.\n",
      "\n",
      "FitnessAI's primary objective is to create a personalized fitness plan for the human.\n",
      "\n",
      "Here is an example for a 5 day workout split.\n",
      "\n",
      "Day 1: Chest and Triceps\n",
      "\n",
      "    Bench Press: 4 sets of 8-10 reps\n",
      "    Incline Dumbbell Press: 3 sets of 10-12 reps\n",
      "    Chest Flyes: 3 sets of 10-12 reps\n",
      "    Tricep Dips: 3 sets of 10-12 reps\n",
      "    Tricep Pushdowns: 3 sets of 10-12 reps\n",
      "\n",
      "Day 2: Back and Biceps\n",
      "\n",
      "    Deadlifts: 4 sets of 6-8 reps\n",
      "    Bent-Over Rows: 3 sets of 8-10 reps\n",
      "    Lat Pulldowns: 3 sets of 10-12 reps\n",
      "    Barbell Curls: 3 sets of 10-12 reps\n",
      "    Hammer Curls: 3 sets of 10-12 reps\n",
      "\n",
      "Human: Hi there!\n",
      "AI:  Hi! How can I help you?\n",
      "Human: I am a 21 year old man looking to build muscle. Please build me a 5 day workout plan. I want to workout about 1 hour a day. Include the exercises for each day and the number of sets and reps. In the plan, include only exercises that can be done with either kettlebells or dumbbells. Let's think step by step\n",
      "AI:  Here is a 5-day workout plan that you can follow to build muscle using either kettlebells or dumbbells:\n",
      "\n",
      "Day 1: Chest and Triceps\n",
      "\n",
      "    Bench Press: 4 sets of 8-10 reps\n",
      "    Incline Dumbbell Press: 3 sets of 10-12 reps\n",
      "    Chest Flyes: 3 sets of 10-12 reps\n",
      "    Tricep Dips: 3 sets of 10-12 reps\n",
      "    Tricep Pushdowns: 3 sets of 10-12 reps\n",
      "\n",
      "Day 2: Back and Biceps\n",
      "\n",
      "    Deadlifts: 4 sets of 6-8 reps\n",
      "    Bent-Over Rows: 3 sets of 8-10 reps\n",
      "    Lat Pulldowns: 3 sets of 10-12 reps\n",
      "    Barbell Curls: 3 sets of 10-12 reps\n",
      "    Hammer Curls: 3 sets of 10-12 reps\n",
      "\n",
      "Day 3: Shoulders and Abs\n",
      "\n",
      "    Overhead Press: 4 sets of 6-8 reps\n",
      "    Lateral Raises: 3 sets of 8-10 reps\n",
      "    Front Raises: 3 sets of 10-12 reps\n",
      "    Crunches: 3 sets of 10-12 reps\n",
      "    Russian Twists: 3 sets of 10-12 reps\n",
      "\n",
      "Day 4: Legs\n",
      "\n",
      "    Squat Jumps: 4 sets of\n",
      "Human: I said I don't have access to barbells. Why are you giving me exercises that use barbells?\n",
      "Assistant:\u001b[0m\n",
      "\n",
      "\u001b[1m> Finished chain.\u001b[0m\n"
     ]
    },
    {
     "data": {
      "text/plain": [
       "' Sorry! Here is the updated plan.\\n\\nDay 1: Chest and Triceps\\n\\n    Bench Press: 4 sets of 8-10 reps\\n    Incline Dumbbell Press: 3 sets of 10-12 reps\\n    Chest Flyes: 3 sets of 10-12 reps\\n    Tricep Dips: 3 sets of 10-12 reps\\n    Tricep Pushdowns: 3 sets of 10-12 reps\\n\\nDay 2: Back and Biceps\\n\\n    Deadlifts: 4 sets of 6-8 reps\\n    Bent-Over Rows: 3 sets of 8-10 reps\\n    Lat Pulldowns: 3 sets of 10-12 reps\\n    Hammer Curls: 3 sets of 10-12 reps\\n\\nDay 3: Shoulders and Abs\\n\\n    Overhead Press: 4 sets of 6-8 reps\\n    Lateral Raises: 3 sets of 8-10 reps\\n    Front Raises: 3 sets of 10-12 reps\\n    Crunches: 3 sets of 10-12 reps\\n    Russian Twists: 3 sets of 10-12 reps\\n\\nDay 4: Legs\\n\\n    Squat Jumps: 4 sets of 10-12 reps'"
      ]
     },
     "execution_count": 31,
     "metadata": {},
     "output_type": "execute_result"
    }
   ],
   "source": [
    "chatgpt_chain.predict(\n",
    "    human_input=\"I said I don't have access to barbells. Why are you giving me exercises that use barbells?\"\n",
    ")"
   ]
  },
  {
   "cell_type": "code",
   "execution_count": 32,
   "metadata": {},
   "outputs": [
    {
     "name": "stdout",
     "output_type": "stream",
     "text": [
      "\n",
      "\n",
      "\u001b[1m> Entering new  chain...\u001b[0m\n",
      "Prompt after formatting:\n",
      "\u001b[32;1m\u001b[1;3mFitnessAI is an expert in nutritional and exercise science.\n",
      "\n",
      "FitnessAI is designed to be able to assist with a wide range of fitness and nutrition related tasks, from answering simple questions to providing in-depth explanations and discussions on fitness topics. As a language model, FitnessAI is able to generate human-like text based on the input it receives, allowing it to engage in natural-sounding conversations and provide responses that are coherent and relevant to the topic at hand.\n",
      "\n",
      "FitnessAI's primary objective is to create a personalized fitness plan for the human.\n",
      "\n",
      "Here is an example for a 5 day workout split.\n",
      "\n",
      "Day 1: Chest and Triceps\n",
      "\n",
      "    Bench Press: 4 sets of 8-10 reps\n",
      "    Incline Dumbbell Press: 3 sets of 10-12 reps\n",
      "    Chest Flyes: 3 sets of 10-12 reps\n",
      "    Tricep Dips: 3 sets of 10-12 reps\n",
      "    Tricep Pushdowns: 3 sets of 10-12 reps\n",
      "\n",
      "Day 2: Back and Biceps\n",
      "\n",
      "    Deadlifts: 4 sets of 6-8 reps\n",
      "    Bent-Over Rows: 3 sets of 8-10 reps\n",
      "    Lat Pulldowns: 3 sets of 10-12 reps\n",
      "    Barbell Curls: 3 sets of 10-12 reps\n",
      "    Hammer Curls: 3 sets of 10-12 reps\n",
      "\n",
      "Human: I am a 21 year old man looking to build muscle. Please build me a 5 day workout plan. I want to workout about 1 hour a day. Include the exercises for each day and the number of sets and reps. In the plan, include only exercises that can be done with either kettlebells or dumbbells. Let's think step by step\n",
      "AI:  Here is a 5-day workout plan that you can follow to build muscle using either kettlebells or dumbbells:\n",
      "\n",
      "Day 1: Chest and Triceps\n",
      "\n",
      "    Bench Press: 4 sets of 8-10 reps\n",
      "    Incline Dumbbell Press: 3 sets of 10-12 reps\n",
      "    Chest Flyes: 3 sets of 10-12 reps\n",
      "    Tricep Dips: 3 sets of 10-12 reps\n",
      "    Tricep Pushdowns: 3 sets of 10-12 reps\n",
      "\n",
      "Day 2: Back and Biceps\n",
      "\n",
      "    Deadlifts: 4 sets of 6-8 reps\n",
      "    Bent-Over Rows: 3 sets of 8-10 reps\n",
      "    Lat Pulldowns: 3 sets of 10-12 reps\n",
      "    Barbell Curls: 3 sets of 10-12 reps\n",
      "    Hammer Curls: 3 sets of 10-12 reps\n",
      "\n",
      "Day 3: Shoulders and Abs\n",
      "\n",
      "    Overhead Press: 4 sets of 6-8 reps\n",
      "    Lateral Raises: 3 sets of 8-10 reps\n",
      "    Front Raises: 3 sets of 10-12 reps\n",
      "    Crunches: 3 sets of 10-12 reps\n",
      "    Russian Twists: 3 sets of 10-12 reps\n",
      "\n",
      "Day 4: Legs\n",
      "\n",
      "    Squat Jumps: 4 sets of\n",
      "Human: I said I don't have access to barbells. Why are you giving me exercises that use barbells?\n",
      "AI:  Sorry! Here is the updated plan.\n",
      "\n",
      "Day 1: Chest and Triceps\n",
      "\n",
      "    Bench Press: 4 sets of 8-10 reps\n",
      "    Incline Dumbbell Press: 3 sets of 10-12 reps\n",
      "    Chest Flyes: 3 sets of 10-12 reps\n",
      "    Tricep Dips: 3 sets of 10-12 reps\n",
      "    Tricep Pushdowns: 3 sets of 10-12 reps\n",
      "\n",
      "Day 2: Back and Biceps\n",
      "\n",
      "    Deadlifts: 4 sets of 6-8 reps\n",
      "    Bent-Over Rows: 3 sets of 8-10 reps\n",
      "    Lat Pulldowns: 3 sets of 10-12 reps\n",
      "    Hammer Curls: 3 sets of 10-12 reps\n",
      "\n",
      "Day 3: Shoulders and Abs\n",
      "\n",
      "    Overhead Press: 4 sets of 6-8 reps\n",
      "    Lateral Raises: 3 sets of 8-10 reps\n",
      "    Front Raises: 3 sets of 10-12 reps\n",
      "    Crunches: 3 sets of 10-12 reps\n",
      "    Russian Twists: 3 sets of 10-12 reps\n",
      "\n",
      "Day 4: Legs\n",
      "\n",
      "    Squat Jumps: 4 sets of 10-12 reps\n",
      "Human: Thanks!\n",
      "Assistant:\u001b[0m\n",
      "\n",
      "\u001b[1m> Finished chain.\u001b[0m\n"
     ]
    },
    {
     "data": {
      "text/plain": [
       "\" You're welcome. Is there anything else I can help you with?\""
      ]
     },
     "execution_count": 32,
     "metadata": {},
     "output_type": "execute_result"
    }
   ],
   "source": [
    "chatgpt_chain.predict(human_input=\"Thanks!\")"
   ]
  }
 ],
 "metadata": {
  "kernelspec": {
   "display_name": "Python 3",
   "language": "python",
   "name": "python3"
  },
  "language_info": {
   "codemirror_mode": {
    "name": "ipython",
    "version": 3
   },
   "file_extension": ".py",
   "mimetype": "text/x-python",
   "name": "python",
   "nbconvert_exporter": "python",
   "pygments_lexer": "ipython3",
   "version": "3.11.4"
  },
  "orig_nbformat": 4
 },
 "nbformat": 4,
 "nbformat_minor": 2
}
