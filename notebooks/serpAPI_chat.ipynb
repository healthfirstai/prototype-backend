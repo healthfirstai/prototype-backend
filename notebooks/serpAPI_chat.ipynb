{
 "cells": [
  {
   "cell_type": "markdown",
   "metadata": {},
   "source": [
    "# Demonstrate the capabilities of SerpAPI"
   ]
  },
  {
   "cell_type": "markdown",
   "metadata": {},
   "source": [
    "## First way of using this Google Search API"
   ]
  },
  {
   "cell_type": "code",
   "execution_count": null,
   "metadata": {},
   "outputs": [],
   "source": [
    "# source: https://python.langchain.com/docs/modules/agents/tools/integrations/google_serper\n",
    "import os\n",
    "import pprint\n",
    "\n",
    "os.environ[\"SERPER_API_KEY\"] = \"\""
   ]
  },
  {
   "cell_type": "code",
   "execution_count": null,
   "metadata": {},
   "outputs": [],
   "source": [
    "from langchain.utilities import GoogleSerperAPIWrapper"
   ]
  },
  {
   "cell_type": "code",
   "execution_count": null,
   "metadata": {},
   "outputs": [],
   "source": [
    "search = GoogleSerperAPIWrapper()"
   ]
  },
  {
   "cell_type": "code",
   "execution_count": null,
   "metadata": {},
   "outputs": [],
   "source": [
    "search.run(\"Obama's first name?\")"
   ]
  },
  {
   "cell_type": "markdown",
   "metadata": {},
   "source": [
    "## Here we can implement a self ask mechanism using search chain:"
   ]
  },
  {
   "cell_type": "code",
   "execution_count": null,
   "metadata": {},
   "outputs": [],
   "source": [
    "os.environ[\"OPENAI_API_KEY\"] = \"\""
   ]
  },
  {
   "cell_type": "code",
   "execution_count": null,
   "metadata": {},
   "outputs": [],
   "source": [
    "from langchain.utilities import GoogleSerperAPIWrapper\n",
    "from langchain.llms.openai import OpenAI\n",
    "from langchain.agents import initialize_agent, Tool\n",
    "from langchain.agents import AgentType\n",
    "\n",
    "llm = OpenAI(temperature=0)\n",
    "search = GoogleSerperAPIWrapper()\n",
    "tools = [\n",
    "    Tool(\n",
    "        name=\"Intermediate Answer\",\n",
    "        func=search.run,\n",
    "        description=\"useful for when you need to ask with search\",\n",
    "    )\n",
    "]\n",
    "\n",
    "self_ask_with_search = initialize_agent(\n",
    "    tools, llm, agent=AgentType.SELF_ASK_WITH_SEARCH, verbose=True\n",
    ")\n",
    "self_ask_with_search.run(\n",
    "    \"What is the hometown of the reigning men's U.S. Open champion?\"\n",
    ")"
   ]
  },
  {
   "cell_type": "markdown",
   "metadata": {},
   "source": [
    "## Apart from that, you could also get the results with metadata"
   ]
  },
  {
   "cell_type": "code",
   "execution_count": null,
   "metadata": {},
   "outputs": [],
   "source": [
    "search = GoogleSerperAPIWrapper()\n",
    "results = search.results(\"Apple Inc.\")\n",
    "pprint.pp(results)"
   ]
  },
  {
   "cell_type": "markdown",
   "metadata": {},
   "source": [
    "here is what the result would look like:"
   ]
  },
  {
   "cell_type": "code",
   "execution_count": null,
   "metadata": {},
   "outputs": [],
   "source": [
    "{'searchParameters': {'q': 'Apple Inc.',\n",
    "                    'gl': 'us',\n",
    "                    'hl': 'en',\n",
    "                    'num': 10,\n",
    "                    'type': 'search'},\n",
    "'knowledgeGraph': {'title': 'Apple',\n",
    "                'type': 'Technology company',\n",
    "                'website': 'http://www.apple.com/',\n",
    "                'imageUrl': 'https://encrypted-tbn0.gstatic.com/images?q=tbn:ANd9GcQwGQRv5TjjkycpctY66mOg_e2-npacrmjAb6_jAWhzlzkFE3OTjxyzbA&s=0',\n",
    "                'description': 'Apple Inc. is an American multinational '\n",
    "                                'technology company headquartered in '\n",
    "                                'Cupertino, California. Apple is the '\n",
    "                                \"world's largest technology company by \"\n",
    "                                'revenue, with US$394.3 billion in 2022 '\n",
    "                                'revenue. As of March 2023, Apple is the '\n",
    "                                \"world's biggest...\",\n",
    "                'descriptionSource': 'Wikipedia',\n",
    "                'descriptionLink': 'https://en.wikipedia.org/wiki/Apple_Inc.',\n",
    "                'attributes': {'Customer service': '1 (800) 275-2273',\n",
    "                                'CEO': 'Tim Cook (Aug 24, 2011–)',\n",
    "                                'Headquarters': 'Cupertino, CA',\n",
    "                                'Founded': 'April 1, 1976, Los Altos, CA',\n",
    "                                'Founders': 'Steve Jobs, Steve Wozniak, '\n",
    "                                            'Ronald Wayne, and more',\n",
    "                                'Products': 'iPhone, iPad, Apple TV, and '\n",
    "                                            'more'}},\n",
    "'organic': [{'title': 'Apple',\n",
    "            'link': 'https://www.apple.com/',\n",
    "            'snippet': 'Discover the innovative world of Apple and shop '\n",
    "                        'everything iPhone, iPad, Apple Watch, Mac, and Apple '\n",
    "                        'TV, plus explore accessories, entertainment, ...',\n",
    "            'sitelinks': [{'title': 'Support',\n",
    "                            'link': 'https://support.apple.com/'},\n",
    "                        {'title': 'iPhone',\n",
    "                            'link': 'https://www.apple.com/iphone/'},\n",
    "                        {'title': 'Site Map',\n",
    "                            'link': 'https://www.apple.com/sitemap/'},\n",
    "                        {'title': 'Business',\n",
    "                            'link': 'https://www.apple.com/business/'},\n",
    "                        {'title': 'Mac',\n",
    "                            'link': 'https://www.apple.com/mac/'},\n",
    "                        {'title': 'Watch',\n",
    "                            'link': 'https://www.apple.com/watch/'}],\n",
    "            'position': 1},\n",
    "            {'title': 'Apple Inc. - Wikipedia',\n",
    "            'link': 'https://en.wikipedia.org/wiki/Apple_Inc.',\n",
    "            'snippet': 'Apple Inc. is an American multinational technology '\n",
    "                        'company headquartered in Cupertino, California. '\n",
    "                        \"Apple is the world's largest technology company by \"\n",
    "                        'revenue, ...',\n",
    "            'attributes': {'Products': 'AirPods; Apple Watch; iPad; iPhone; '\n",
    "                                        'Mac; Full list',\n",
    "                            'Founders': 'Steve Jobs; Steve Wozniak; Ronald '\n",
    "                                        'Wayne; Mike Markkula'},\n",
    "            'sitelinks': [{'title': 'History',\n",
    "                            'link': 'https://en.wikipedia.org/wiki/History_of_Apple_Inc.'},\n",
    "                        {'title': 'Timeline of Apple Inc. products',\n",
    "                            'link': 'https://en.wikipedia.org/wiki/Timeline_of_Apple_Inc._products'},\n",
    "                        {'title': 'Litigation involving Apple Inc.',\n",
    "                            'link': 'https://en.wikipedia.org/wiki/Litigation_involving_Apple_Inc.'},\n",
    "                        {'title': 'Apple Store',\n",
    "                            'link': 'https://en.wikipedia.org/wiki/Apple_Store'}],\n",
    "            'imageUrl': 'https://encrypted-tbn0.gstatic.com/images?q=tbn:ANd9GcRvmB5fT1LjqpZx02UM7IJq0Buoqt0DZs_y0dqwxwSWyP4PIN9FaxuTea0&s',\n",
    "            'position': 2},\n",
    "            {'title': 'Apple Inc. | History, Products, Headquarters, & Facts '\n",
    "                    '| Britannica',\n",
    "            'link': 'https://www.britannica.com/topic/Apple-Inc',\n",
    "            'snippet': 'Apple Inc., formerly Apple Computer, Inc., American '\n",
    "                        'manufacturer of personal computers, smartphones, '\n",
    "                        'tablet computers, computer peripherals, and computer '\n",
    "                        '...',\n",
    "            'attributes': {'Related People': 'Steve Jobs Steve Wozniak Jony '\n",
    "                                            'Ive Tim Cook Angela Ahrendts',\n",
    "                            'Date': '1976 - present'},\n",
    "            'imageUrl': 'https://encrypted-tbn0.gstatic.com/images?q=tbn:ANd9GcS3liELlhrMz3Wpsox29U8jJ3L8qETR0hBWHXbFnwjwQc34zwZvFELst2E&s',\n",
    "            'position': 3},\n",
    "            {'title': 'AAPL: Apple Inc Stock Price Quote - NASDAQ GS - '\n",
    "                    'Bloomberg.com',\n",
    "            'link': 'https://www.bloomberg.com/quote/AAPL:US',\n",
    "            'snippet': 'AAPL:USNASDAQ GS. Apple Inc. COMPANY INFO ; Open. '\n",
    "                        '170.09 ; Prev Close. 169.59 ; Volume. 48,425,696 ; '\n",
    "                        'Market Cap. 2.667T ; Day Range. 167.54170.35.',\n",
    "            'position': 4},\n",
    "            {'title': 'Apple Inc. (AAPL) Company Profile & Facts - Yahoo '\n",
    "                    'Finance',\n",
    "            'link': 'https://finance.yahoo.com/quote/AAPL/profile/',\n",
    "            'snippet': 'Apple Inc. designs, manufactures, and markets '\n",
    "                        'smartphones, personal computers, tablets, wearables, '\n",
    "                        'and accessories worldwide. The company offers '\n",
    "                        'iPhone, a line ...',\n",
    "            'position': 5},\n",
    "            {'title': 'Apple Inc. (AAPL) Stock Price, News, Quote & History - '\n",
    "                    'Yahoo Finance',\n",
    "            'link': 'https://finance.yahoo.com/quote/AAPL',\n",
    "            'snippet': 'Find the latest Apple Inc. (AAPL) stock quote, '\n",
    "                        'history, news and other vital information to help '\n",
    "                        'you with your stock trading and investing.',\n",
    "            'position': 6}],\n",
    "'peopleAlsoAsk': [{'question': 'What does Apple Inc do?',\n",
    "                'snippet': 'Apple Inc. (Apple) designs, manufactures and '\n",
    "                            'markets smartphones, personal\\n'\n",
    "                            'computers, tablets, wearables and accessories '\n",
    "                            'and sells a range of related\\n'\n",
    "                            'services.',\n",
    "                'title': 'AAPL.O - | Stock Price & Latest News - Reuters',\n",
    "                'link': 'https://www.reuters.com/markets/companies/AAPL.O/'},\n",
    "                {'question': 'What is the full form of Apple Inc?',\n",
    "                'snippet': '(formerly Apple Computer Inc.) is an American '\n",
    "                            'computer and consumer electronics\\n'\n",
    "                            'company famous for creating the iPhone, iPad '\n",
    "                            'and Macintosh computers.',\n",
    "                'title': 'What is Apple? An products and history overview '\n",
    "                            '- TechTarget',\n",
    "                'link': 'https://www.techtarget.com/whatis/definition/Apple'},\n",
    "                {'question': 'What is Apple Inc iPhone?',\n",
    "                'snippet': 'Apple Inc (Apple) designs, manufactures, and '\n",
    "                            'markets smartphones, tablets,\\n'\n",
    "                            'personal computers, and wearable devices. The '\n",
    "                            'company also offers software\\n'\n",
    "                            'applications and related services, '\n",
    "                            'accessories, and third-party digital content.\\n'\n",
    "                            \"Apple's product portfolio includes iPhone, \"\n",
    "                            'iPad, Mac, iPod, Apple Watch, and\\n'\n",
    "                            'Apple TV.',\n",
    "                'title': 'Apple Inc Company Profile - Apple Inc Overview - '\n",
    "                            'GlobalData',\n",
    "                'link': 'https://www.globaldata.com/company-profile/apple-inc/'},\n",
    "                {'question': 'Who runs Apple Inc?',\n",
    "                'snippet': 'Timothy Donald Cook (born November 1, 1960) is '\n",
    "                            'an American business executive\\n'\n",
    "                            'who has been the chief executive officer of '\n",
    "                            'Apple Inc. since 2011. Cook\\n'\n",
    "                            \"previously served as the company's chief \"\n",
    "                            'operating officer under its co-founder\\n'\n",
    "                            'Steve Jobs. He is the first CEO of any Fortune '\n",
    "                            '500 company who is openly gay.',\n",
    "                'title': 'Tim Cook - Wikipedia',\n",
    "                'link': 'https://en.wikipedia.org/wiki/Tim_Cook'}],\n",
    "'relatedSearches': [{'query': 'Who invented the iPhone'},\n",
    "                    {'query': 'Apple iPhone'},\n",
    "                    {'query': 'History of Apple company PDF'},\n",
    "                    {'query': 'Apple company history'},\n",
    "                    {'query': 'Apple company introduction'},\n",
    "                    {'query': 'Apple India'},\n",
    "                    {'query': 'What does Apple Inc own'},\n",
    "                    {'query': 'Apple Inc After Steve'},\n",
    "                    {'query': 'Apple Watch'},\n",
    "                    {'query': 'Apple App Store'}]}"
   ]
  },
  {
   "cell_type": "markdown",
   "metadata": {},
   "source": [
    "## NOTE: for specific user cases, please refer to the original documentation."
   ]
  }
 ],
 "metadata": {
  "kernelspec": {
   "display_name": ".venv",
   "language": "python",
   "name": "python3"
  },
  "language_info": {
   "codemirror_mode": {
    "name": "ipython",
    "version": 3
   },
   "file_extension": ".py",
   "mimetype": "text/x-python",
   "name": "python",
   "nbconvert_exporter": "python",
   "pygments_lexer": "ipython3",
   "version": "3.11.4"
  },
  "orig_nbformat": 4
 },
 "nbformat": 4,
 "nbformat_minor": 2
}
