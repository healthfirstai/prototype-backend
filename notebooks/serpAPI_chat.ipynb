{
 "cells": [
  {
   "cell_type": "markdown",
   "metadata": {},
   "source": [
    "# Demonstrate the capabilities of SerpAPI"
   ]
  },
  {
   "cell_type": "markdown",
   "metadata": {},
   "source": [
    "## First way of using this Google Search API"
   ]
  },
  {
   "cell_type": "code",
   "execution_count": 6,
   "metadata": {},
   "outputs": [],
   "source": [
    "# source: https://python.langchain.com/docs/modules/agents/tools/integrations/google_serper\n",
    "import os\n",
    "import pprint\n",
    "\n",
    "SERPER_API_KEY = os.getenv(\"SERPER_API_KEY\") or \"\""
   ]
  },
  {
   "cell_type": "code",
   "execution_count": 7,
   "metadata": {},
   "outputs": [],
   "source": [
    "from langchain.utilities import GoogleSerperAPIWrapper"
   ]
  },
  {
   "cell_type": "code",
   "execution_count": 8,
   "metadata": {},
   "outputs": [],
   "source": [
    "search = GoogleSerperAPIWrapper(serper_api_key=SERPER_API_KEY)"
   ]
  },
  {
   "cell_type": "code",
   "execution_count": 14,
   "metadata": {},
   "outputs": [
    {
     "data": {
      "text/plain": [
       "'The general guideline is to eat a full meal three to four hours before exercising, a higher carbohydrate snack two hours before, and/or a smaller, easy-to-digest carbohydrate right up until you start. Aug 30, 2021'"
      ]
     },
     "execution_count": 14,
     "metadata": {},
     "output_type": "execute_result"
    }
   ],
   "source": [
    "search.run(\"What is the best time to eat before exercise?\")"
   ]
  },
  {
   "cell_type": "markdown",
   "metadata": {},
   "source": [
    "## Here we can implement a self ask mechanism using search chain:"
   ]
  },
  {
   "cell_type": "code",
   "execution_count": 10,
   "metadata": {},
   "outputs": [],
   "source": [
    "COHERE_API_KEY = os.getenv(\"COHERE_API_KEY\") or \"\""
   ]
  },
  {
   "cell_type": "code",
   "execution_count": 13,
   "metadata": {},
   "outputs": [
    {
     "name": "stdout",
     "output_type": "stream",
     "text": [
      "\n",
      "\n",
      "\u001b[1m> Entering new  chain...\u001b[0m\n",
      "\u001b[32;1m\u001b[1;3m Yes.\n",
      "Follow up: Who is the reigning men's U.S. Open champion?\u001b[0m\n",
      "Intermediate answer: \u001b[36;1m\u001b[1;3mList of Winners of the USA Open - Men's Singles Year Winner Runner-up 2022 Carlos Alcaraz (Spain) Casper Ruud (Norway) 2021 Daniil Medvedev (Russia) Novak Đoković (Serbia) 2020 Dominic Thiem (Austria) Alexander Zverev (Germany) 2019 Rafael Nadal (Spain) Daniil Medvedev (Russia)\u001b[0m\n",
      "\u001b[32;1m\u001b[1;3m Follow up: What is the hometown of Carlos Alcaraz?\u001b[0m\n",
      "Intermediate answer: \u001b[36;1m\u001b[1;3mMay 5, 2003 (age 20 years), El Palmar, Spain\u001b[0m\n"
     ]
    },
    {
     "ename": "OutputParserException",
     "evalue": "Could not parse output:  El Palmar, Spain",
     "output_type": "error",
     "traceback": [
      "\u001b[0;31m---------------------------------------------------------------------------\u001b[0m",
      "\u001b[0;31mOutputParserException\u001b[0m                     Traceback (most recent call last)",
      "Cell \u001b[0;32mIn[13], line 24\u001b[0m\n\u001b[1;32m     13\u001b[0m tools \u001b[39m=\u001b[39m [\n\u001b[1;32m     14\u001b[0m     Tool(\n\u001b[1;32m     15\u001b[0m         name\u001b[39m=\u001b[39m\u001b[39m\"\u001b[39m\u001b[39mIntermediate Answer\u001b[39m\u001b[39m\"\u001b[39m,\n\u001b[0;32m   (...)\u001b[0m\n\u001b[1;32m     18\u001b[0m     )\n\u001b[1;32m     19\u001b[0m ]\n\u001b[1;32m     21\u001b[0m self_ask_with_search \u001b[39m=\u001b[39m initialize_agent(\n\u001b[1;32m     22\u001b[0m     tools, llm, agent\u001b[39m=\u001b[39mAgentType\u001b[39m.\u001b[39mSELF_ASK_WITH_SEARCH, verbose\u001b[39m=\u001b[39m\u001b[39mTrue\u001b[39;00m\n\u001b[1;32m     23\u001b[0m )\n\u001b[0;32m---> 24\u001b[0m self_ask_with_search\u001b[39m.\u001b[39;49mrun(\n\u001b[1;32m     25\u001b[0m     \u001b[39m\"\u001b[39;49m\u001b[39mWhat is the hometown of the reigning men\u001b[39;49m\u001b[39m'\u001b[39;49m\u001b[39ms U.S. Open champion?\u001b[39;49m\u001b[39m\"\u001b[39;49m\n\u001b[1;32m     26\u001b[0m )\n",
      "File \u001b[0;32m~/git-repos/prototype-backend/.venv/lib/python3.11/site-packages/langchain/chains/base.py:290\u001b[0m, in \u001b[0;36mChain.run\u001b[0;34m(self, callbacks, tags, *args, **kwargs)\u001b[0m\n\u001b[1;32m    288\u001b[0m     \u001b[39mif\u001b[39;00m \u001b[39mlen\u001b[39m(args) \u001b[39m!=\u001b[39m \u001b[39m1\u001b[39m:\n\u001b[1;32m    289\u001b[0m         \u001b[39mraise\u001b[39;00m \u001b[39mValueError\u001b[39;00m(\u001b[39m\"\u001b[39m\u001b[39m`run` supports only one positional argument.\u001b[39m\u001b[39m\"\u001b[39m)\n\u001b[0;32m--> 290\u001b[0m     \u001b[39mreturn\u001b[39;00m \u001b[39mself\u001b[39;49m(args[\u001b[39m0\u001b[39;49m], callbacks\u001b[39m=\u001b[39;49mcallbacks, tags\u001b[39m=\u001b[39;49mtags)[_output_key]\n\u001b[1;32m    292\u001b[0m \u001b[39mif\u001b[39;00m kwargs \u001b[39mand\u001b[39;00m \u001b[39mnot\u001b[39;00m args:\n\u001b[1;32m    293\u001b[0m     \u001b[39mreturn\u001b[39;00m \u001b[39mself\u001b[39m(kwargs, callbacks\u001b[39m=\u001b[39mcallbacks, tags\u001b[39m=\u001b[39mtags)[_output_key]\n",
      "File \u001b[0;32m~/git-repos/prototype-backend/.venv/lib/python3.11/site-packages/langchain/chains/base.py:166\u001b[0m, in \u001b[0;36mChain.__call__\u001b[0;34m(self, inputs, return_only_outputs, callbacks, tags, include_run_info)\u001b[0m\n\u001b[1;32m    164\u001b[0m \u001b[39mexcept\u001b[39;00m (\u001b[39mKeyboardInterrupt\u001b[39;00m, \u001b[39mException\u001b[39;00m) \u001b[39mas\u001b[39;00m e:\n\u001b[1;32m    165\u001b[0m     run_manager\u001b[39m.\u001b[39mon_chain_error(e)\n\u001b[0;32m--> 166\u001b[0m     \u001b[39mraise\u001b[39;00m e\n\u001b[1;32m    167\u001b[0m run_manager\u001b[39m.\u001b[39mon_chain_end(outputs)\n\u001b[1;32m    168\u001b[0m final_outputs: Dict[\u001b[39mstr\u001b[39m, Any] \u001b[39m=\u001b[39m \u001b[39mself\u001b[39m\u001b[39m.\u001b[39mprep_outputs(\n\u001b[1;32m    169\u001b[0m     inputs, outputs, return_only_outputs\n\u001b[1;32m    170\u001b[0m )\n",
      "File \u001b[0;32m~/git-repos/prototype-backend/.venv/lib/python3.11/site-packages/langchain/chains/base.py:160\u001b[0m, in \u001b[0;36mChain.__call__\u001b[0;34m(self, inputs, return_only_outputs, callbacks, tags, include_run_info)\u001b[0m\n\u001b[1;32m    154\u001b[0m run_manager \u001b[39m=\u001b[39m callback_manager\u001b[39m.\u001b[39mon_chain_start(\n\u001b[1;32m    155\u001b[0m     dumpd(\u001b[39mself\u001b[39m),\n\u001b[1;32m    156\u001b[0m     inputs,\n\u001b[1;32m    157\u001b[0m )\n\u001b[1;32m    158\u001b[0m \u001b[39mtry\u001b[39;00m:\n\u001b[1;32m    159\u001b[0m     outputs \u001b[39m=\u001b[39m (\n\u001b[0;32m--> 160\u001b[0m         \u001b[39mself\u001b[39;49m\u001b[39m.\u001b[39;49m_call(inputs, run_manager\u001b[39m=\u001b[39;49mrun_manager)\n\u001b[1;32m    161\u001b[0m         \u001b[39mif\u001b[39;00m new_arg_supported\n\u001b[1;32m    162\u001b[0m         \u001b[39melse\u001b[39;00m \u001b[39mself\u001b[39m\u001b[39m.\u001b[39m_call(inputs)\n\u001b[1;32m    163\u001b[0m     )\n\u001b[1;32m    164\u001b[0m \u001b[39mexcept\u001b[39;00m (\u001b[39mKeyboardInterrupt\u001b[39;00m, \u001b[39mException\u001b[39;00m) \u001b[39mas\u001b[39;00m e:\n\u001b[1;32m    165\u001b[0m     run_manager\u001b[39m.\u001b[39mon_chain_error(e)\n",
      "File \u001b[0;32m~/git-repos/prototype-backend/.venv/lib/python3.11/site-packages/langchain/agents/agent.py:987\u001b[0m, in \u001b[0;36mAgentExecutor._call\u001b[0;34m(self, inputs, run_manager)\u001b[0m\n\u001b[1;32m    985\u001b[0m \u001b[39m# We now enter the agent loop (until it returns something).\u001b[39;00m\n\u001b[1;32m    986\u001b[0m \u001b[39mwhile\u001b[39;00m \u001b[39mself\u001b[39m\u001b[39m.\u001b[39m_should_continue(iterations, time_elapsed):\n\u001b[0;32m--> 987\u001b[0m     next_step_output \u001b[39m=\u001b[39m \u001b[39mself\u001b[39;49m\u001b[39m.\u001b[39;49m_take_next_step(\n\u001b[1;32m    988\u001b[0m         name_to_tool_map,\n\u001b[1;32m    989\u001b[0m         color_mapping,\n\u001b[1;32m    990\u001b[0m         inputs,\n\u001b[1;32m    991\u001b[0m         intermediate_steps,\n\u001b[1;32m    992\u001b[0m         run_manager\u001b[39m=\u001b[39;49mrun_manager,\n\u001b[1;32m    993\u001b[0m     )\n\u001b[1;32m    994\u001b[0m     \u001b[39mif\u001b[39;00m \u001b[39misinstance\u001b[39m(next_step_output, AgentFinish):\n\u001b[1;32m    995\u001b[0m         \u001b[39mreturn\u001b[39;00m \u001b[39mself\u001b[39m\u001b[39m.\u001b[39m_return(\n\u001b[1;32m    996\u001b[0m             next_step_output, intermediate_steps, run_manager\u001b[39m=\u001b[39mrun_manager\n\u001b[1;32m    997\u001b[0m         )\n",
      "File \u001b[0;32m~/git-repos/prototype-backend/.venv/lib/python3.11/site-packages/langchain/agents/agent.py:803\u001b[0m, in \u001b[0;36mAgentExecutor._take_next_step\u001b[0;34m(self, name_to_tool_map, color_mapping, inputs, intermediate_steps, run_manager)\u001b[0m\n\u001b[1;32m    801\u001b[0m     raise_error \u001b[39m=\u001b[39m \u001b[39mFalse\u001b[39;00m\n\u001b[1;32m    802\u001b[0m \u001b[39mif\u001b[39;00m raise_error:\n\u001b[0;32m--> 803\u001b[0m     \u001b[39mraise\u001b[39;00m e\n\u001b[1;32m    804\u001b[0m text \u001b[39m=\u001b[39m \u001b[39mstr\u001b[39m(e)\n\u001b[1;32m    805\u001b[0m \u001b[39mif\u001b[39;00m \u001b[39misinstance\u001b[39m(\u001b[39mself\u001b[39m\u001b[39m.\u001b[39mhandle_parsing_errors, \u001b[39mbool\u001b[39m):\n",
      "File \u001b[0;32m~/git-repos/prototype-backend/.venv/lib/python3.11/site-packages/langchain/agents/agent.py:792\u001b[0m, in \u001b[0;36mAgentExecutor._take_next_step\u001b[0;34m(self, name_to_tool_map, color_mapping, inputs, intermediate_steps, run_manager)\u001b[0m\n\u001b[1;32m    786\u001b[0m \u001b[39m\u001b[39m\u001b[39m\"\"\"Take a single step in the thought-action-observation loop.\u001b[39;00m\n\u001b[1;32m    787\u001b[0m \n\u001b[1;32m    788\u001b[0m \u001b[39mOverride this to take control of how the agent makes and acts on choices.\u001b[39;00m\n\u001b[1;32m    789\u001b[0m \u001b[39m\"\"\"\u001b[39;00m\n\u001b[1;32m    790\u001b[0m \u001b[39mtry\u001b[39;00m:\n\u001b[1;32m    791\u001b[0m     \u001b[39m# Call the LLM to see what to do.\u001b[39;00m\n\u001b[0;32m--> 792\u001b[0m     output \u001b[39m=\u001b[39m \u001b[39mself\u001b[39;49m\u001b[39m.\u001b[39;49magent\u001b[39m.\u001b[39;49mplan(\n\u001b[1;32m    793\u001b[0m         intermediate_steps,\n\u001b[1;32m    794\u001b[0m         callbacks\u001b[39m=\u001b[39;49mrun_manager\u001b[39m.\u001b[39;49mget_child() \u001b[39mif\u001b[39;49;00m run_manager \u001b[39melse\u001b[39;49;00m \u001b[39mNone\u001b[39;49;00m,\n\u001b[1;32m    795\u001b[0m         \u001b[39m*\u001b[39;49m\u001b[39m*\u001b[39;49minputs,\n\u001b[1;32m    796\u001b[0m     )\n\u001b[1;32m    797\u001b[0m \u001b[39mexcept\u001b[39;00m OutputParserException \u001b[39mas\u001b[39;00m e:\n\u001b[1;32m    798\u001b[0m     \u001b[39mif\u001b[39;00m \u001b[39misinstance\u001b[39m(\u001b[39mself\u001b[39m\u001b[39m.\u001b[39mhandle_parsing_errors, \u001b[39mbool\u001b[39m):\n",
      "File \u001b[0;32m~/git-repos/prototype-backend/.venv/lib/python3.11/site-packages/langchain/agents/agent.py:444\u001b[0m, in \u001b[0;36mAgent.plan\u001b[0;34m(self, intermediate_steps, callbacks, **kwargs)\u001b[0m\n\u001b[1;32m    442\u001b[0m full_inputs \u001b[39m=\u001b[39m \u001b[39mself\u001b[39m\u001b[39m.\u001b[39mget_full_inputs(intermediate_steps, \u001b[39m*\u001b[39m\u001b[39m*\u001b[39mkwargs)\n\u001b[1;32m    443\u001b[0m full_output \u001b[39m=\u001b[39m \u001b[39mself\u001b[39m\u001b[39m.\u001b[39mllm_chain\u001b[39m.\u001b[39mpredict(callbacks\u001b[39m=\u001b[39mcallbacks, \u001b[39m*\u001b[39m\u001b[39m*\u001b[39mfull_inputs)\n\u001b[0;32m--> 444\u001b[0m \u001b[39mreturn\u001b[39;00m \u001b[39mself\u001b[39;49m\u001b[39m.\u001b[39;49moutput_parser\u001b[39m.\u001b[39;49mparse(full_output)\n",
      "File \u001b[0;32m~/git-repos/prototype-backend/.venv/lib/python3.11/site-packages/langchain/agents/self_ask_with_search/output_parser.py:15\u001b[0m, in \u001b[0;36mSelfAskOutputParser.parse\u001b[0;34m(self, text)\u001b[0m\n\u001b[1;32m     13\u001b[0m \u001b[39mif\u001b[39;00m \u001b[39mnot\u001b[39;00m \u001b[39many\u001b[39m([follow \u001b[39min\u001b[39;00m last_line \u001b[39mfor\u001b[39;00m follow \u001b[39min\u001b[39;00m \u001b[39mself\u001b[39m\u001b[39m.\u001b[39mfollowups]):\n\u001b[1;32m     14\u001b[0m     \u001b[39mif\u001b[39;00m \u001b[39mself\u001b[39m\u001b[39m.\u001b[39mfinish_string \u001b[39mnot\u001b[39;00m \u001b[39min\u001b[39;00m last_line:\n\u001b[0;32m---> 15\u001b[0m         \u001b[39mraise\u001b[39;00m OutputParserException(\u001b[39mf\u001b[39m\u001b[39m\"\u001b[39m\u001b[39mCould not parse output: \u001b[39m\u001b[39m{\u001b[39;00mtext\u001b[39m}\u001b[39;00m\u001b[39m\"\u001b[39m)\n\u001b[1;32m     16\u001b[0m     \u001b[39mreturn\u001b[39;00m AgentFinish({\u001b[39m\"\u001b[39m\u001b[39moutput\u001b[39m\u001b[39m\"\u001b[39m: last_line[\u001b[39mlen\u001b[39m(\u001b[39mself\u001b[39m\u001b[39m.\u001b[39mfinish_string) :]}, text)\n\u001b[1;32m     18\u001b[0m after_colon \u001b[39m=\u001b[39m text\u001b[39m.\u001b[39msplit(\u001b[39m\"\u001b[39m\u001b[39m:\u001b[39m\u001b[39m\"\u001b[39m)[\u001b[39m-\u001b[39m\u001b[39m1\u001b[39m]\u001b[39m.\u001b[39mstrip()\n",
      "\u001b[0;31mOutputParserException\u001b[0m: Could not parse output:  El Palmar, Spain"
     ]
    }
   ],
   "source": [
    "from langchain.utilities import GoogleSerperAPIWrapper\n",
    "from langchain.llms.cohere import Cohere\n",
    "from langchain.agents import initialize_agent, Tool\n",
    "from langchain.agents import AgentType\n",
    "\n",
    "llm = Cohere(    \n",
    "    client=None,\n",
    "    cohere_api_key=COHERE_API_KEY,\n",
    "    model=\"command-nightly\",\n",
    "    temperature=0\n",
    ")\n",
    "search = GoogleSerperAPIWrapper(serper_api_key=SERPER_API_KEY)\n",
    "tools = [\n",
    "    Tool(\n",
    "        name=\"Intermediate Answer\",\n",
    "        func=search.run,\n",
    "        description=\"useful for when you need to ask with search\",\n",
    "    )\n",
    "]\n",
    "\n",
    "self_ask_with_search = initialize_agent(\n",
    "    tools, llm, agent=AgentType.SELF_ASK_WITH_SEARCH, verbose=True\n",
    ")\n",
    "self_ask_with_search.run(\n",
    "    \"What is the hometown of the reigning men's U.S. Open champion?\"\n",
    ")"
   ]
  },
  {
   "cell_type": "markdown",
   "metadata": {},
   "source": [
    "## Apart from that, you could also get the results with metadata"
   ]
  },
  {
   "cell_type": "code",
   "execution_count": null,
   "metadata": {},
   "outputs": [],
   "source": [
    "search = GoogleSerperAPIWrapper()\n",
    "results = search.results(\"Apple Inc.\")\n",
    "pprint.pp(results)"
   ]
  },
  {
   "cell_type": "markdown",
   "metadata": {},
   "source": [
    "here is what the result would look like:"
   ]
  },
  {
   "cell_type": "code",
   "execution_count": null,
   "metadata": {},
   "outputs": [],
   "source": [
    "{'searchParameters': {'q': 'Apple Inc.',\n",
    "                    'gl': 'us',\n",
    "                    'hl': 'en',\n",
    "                    'num': 10,\n",
    "                    'type': 'search'},\n",
    "'knowledgeGraph': {'title': 'Apple',\n",
    "                'type': 'Technology company',\n",
    "                'website': 'http://www.apple.com/',\n",
    "                'imageUrl': 'https://encrypted-tbn0.gstatic.com/images?q=tbn:ANd9GcQwGQRv5TjjkycpctY66mOg_e2-npacrmjAb6_jAWhzlzkFE3OTjxyzbA&s=0',\n",
    "                'description': 'Apple Inc. is an American multinational '\n",
    "                                'technology company headquartered in '\n",
    "                                'Cupertino, California. Apple is the '\n",
    "                                \"world's largest technology company by \"\n",
    "                                'revenue, with US$394.3 billion in 2022 '\n",
    "                                'revenue. As of March 2023, Apple is the '\n",
    "                                \"world's biggest...\",\n",
    "                'descriptionSource': 'Wikipedia',\n",
    "                'descriptionLink': 'https://en.wikipedia.org/wiki/Apple_Inc.',\n",
    "                'attributes': {'Customer service': '1 (800) 275-2273',\n",
    "                                'CEO': 'Tim Cook (Aug 24, 2011–)',\n",
    "                                'Headquarters': 'Cupertino, CA',\n",
    "                                'Founded': 'April 1, 1976, Los Altos, CA',\n",
    "                                'Founders': 'Steve Jobs, Steve Wozniak, '\n",
    "                                            'Ronald Wayne, and more',\n",
    "                                'Products': 'iPhone, iPad, Apple TV, and '\n",
    "                                            'more'}},\n",
    "'organic': [{'title': 'Apple',\n",
    "            'link': 'https://www.apple.com/',\n",
    "            'snippet': 'Discover the innovative world of Apple and shop '\n",
    "                        'everything iPhone, iPad, Apple Watch, Mac, and Apple '\n",
    "                        'TV, plus explore accessories, entertainment, ...',\n",
    "            'sitelinks': [{'title': 'Support',\n",
    "                            'link': 'https://support.apple.com/'},\n",
    "                        {'title': 'iPhone',\n",
    "                            'link': 'https://www.apple.com/iphone/'},\n",
    "                        {'title': 'Site Map',\n",
    "                            'link': 'https://www.apple.com/sitemap/'},\n",
    "                        {'title': 'Business',\n",
    "                            'link': 'https://www.apple.com/business/'},\n",
    "                        {'title': 'Mac',\n",
    "                            'link': 'https://www.apple.com/mac/'},\n",
    "                        {'title': 'Watch',\n",
    "                            'link': 'https://www.apple.com/watch/'}],\n",
    "            'position': 1},\n",
    "            {'title': 'Apple Inc. - Wikipedia',\n",
    "            'link': 'https://en.wikipedia.org/wiki/Apple_Inc.',\n",
    "            'snippet': 'Apple Inc. is an American multinational technology '\n",
    "                        'company headquartered in Cupertino, California. '\n",
    "                        \"Apple is the world's largest technology company by \"\n",
    "                        'revenue, ...',\n",
    "            'attributes': {'Products': 'AirPods; Apple Watch; iPad; iPhone; '\n",
    "                                        'Mac; Full list',\n",
    "                            'Founders': 'Steve Jobs; Steve Wozniak; Ronald '\n",
    "                                        'Wayne; Mike Markkula'},\n",
    "            'sitelinks': [{'title': 'History',\n",
    "                            'link': 'https://en.wikipedia.org/wiki/History_of_Apple_Inc.'},\n",
    "                        {'title': 'Timeline of Apple Inc. products',\n",
    "                            'link': 'https://en.wikipedia.org/wiki/Timeline_of_Apple_Inc._products'},\n",
    "                        {'title': 'Litigation involving Apple Inc.',\n",
    "                            'link': 'https://en.wikipedia.org/wiki/Litigation_involving_Apple_Inc.'},\n",
    "                        {'title': 'Apple Store',\n",
    "                            'link': 'https://en.wikipedia.org/wiki/Apple_Store'}],\n",
    "            'imageUrl': 'https://encrypted-tbn0.gstatic.com/images?q=tbn:ANd9GcRvmB5fT1LjqpZx02UM7IJq0Buoqt0DZs_y0dqwxwSWyP4PIN9FaxuTea0&s',\n",
    "            'position': 2},\n",
    "            {'title': 'Apple Inc. | History, Products, Headquarters, & Facts '\n",
    "                    '| Britannica',\n",
    "            'link': 'https://www.britannica.com/topic/Apple-Inc',\n",
    "            'snippet': 'Apple Inc., formerly Apple Computer, Inc., American '\n",
    "                        'manufacturer of personal computers, smartphones, '\n",
    "                        'tablet computers, computer peripherals, and computer '\n",
    "                        '...',\n",
    "            'attributes': {'Related People': 'Steve Jobs Steve Wozniak Jony '\n",
    "                                            'Ive Tim Cook Angela Ahrendts',\n",
    "                            'Date': '1976 - present'},\n",
    "            'imageUrl': 'https://encrypted-tbn0.gstatic.com/images?q=tbn:ANd9GcS3liELlhrMz3Wpsox29U8jJ3L8qETR0hBWHXbFnwjwQc34zwZvFELst2E&s',\n",
    "            'position': 3},\n",
    "            {'title': 'AAPL: Apple Inc Stock Price Quote - NASDAQ GS - '\n",
    "                    'Bloomberg.com',\n",
    "            'link': 'https://www.bloomberg.com/quote/AAPL:US',\n",
    "            'snippet': 'AAPL:USNASDAQ GS. Apple Inc. COMPANY INFO ; Open. '\n",
    "                        '170.09 ; Prev Close. 169.59 ; Volume. 48,425,696 ; '\n",
    "                        'Market Cap. 2.667T ; Day Range. 167.54170.35.',\n",
    "            'position': 4},\n",
    "            {'title': 'Apple Inc. (AAPL) Company Profile & Facts - Yahoo '\n",
    "                    'Finance',\n",
    "            'link': 'https://finance.yahoo.com/quote/AAPL/profile/',\n",
    "            'snippet': 'Apple Inc. designs, manufactures, and markets '\n",
    "                        'smartphones, personal computers, tablets, wearables, '\n",
    "                        'and accessories worldwide. The company offers '\n",
    "                        'iPhone, a line ...',\n",
    "            'position': 5},\n",
    "            {'title': 'Apple Inc. (AAPL) Stock Price, News, Quote & History - '\n",
    "                    'Yahoo Finance',\n",
    "            'link': 'https://finance.yahoo.com/quote/AAPL',\n",
    "            'snippet': 'Find the latest Apple Inc. (AAPL) stock quote, '\n",
    "                        'history, news and other vital information to help '\n",
    "                        'you with your stock trading and investing.',\n",
    "            'position': 6}],\n",
    "'peopleAlsoAsk': [{'question': 'What does Apple Inc do?',\n",
    "                'snippet': 'Apple Inc. (Apple) designs, manufactures and '\n",
    "                            'markets smartphones, personal\\n'\n",
    "                            'computers, tablets, wearables and accessories '\n",
    "                            'and sells a range of related\\n'\n",
    "                            'services.',\n",
    "                'title': 'AAPL.O - | Stock Price & Latest News - Reuters',\n",
    "                'link': 'https://www.reuters.com/markets/companies/AAPL.O/'},\n",
    "                {'question': 'What is the full form of Apple Inc?',\n",
    "                'snippet': '(formerly Apple Computer Inc.) is an American '\n",
    "                            'computer and consumer electronics\\n'\n",
    "                            'company famous for creating the iPhone, iPad '\n",
    "                            'and Macintosh computers.',\n",
    "                'title': 'What is Apple? An products and history overview '\n",
    "                            '- TechTarget',\n",
    "                'link': 'https://www.techtarget.com/whatis/definition/Apple'},\n",
    "                {'question': 'What is Apple Inc iPhone?',\n",
    "                'snippet': 'Apple Inc (Apple) designs, manufactures, and '\n",
    "                            'markets smartphones, tablets,\\n'\n",
    "                            'personal computers, and wearable devices. The '\n",
    "                            'company also offers software\\n'\n",
    "                            'applications and related services, '\n",
    "                            'accessories, and third-party digital content.\\n'\n",
    "                            \"Apple's product portfolio includes iPhone, \"\n",
    "                            'iPad, Mac, iPod, Apple Watch, and\\n'\n",
    "                            'Apple TV.',\n",
    "                'title': 'Apple Inc Company Profile - Apple Inc Overview - '\n",
    "                            'GlobalData',\n",
    "                'link': 'https://www.globaldata.com/company-profile/apple-inc/'},\n",
    "                {'question': 'Who runs Apple Inc?',\n",
    "                'snippet': 'Timothy Donald Cook (born November 1, 1960) is '\n",
    "                            'an American business executive\\n'\n",
    "                            'who has been the chief executive officer of '\n",
    "                            'Apple Inc. since 2011. Cook\\n'\n",
    "                            \"previously served as the company's chief \"\n",
    "                            'operating officer under its co-founder\\n'\n",
    "                            'Steve Jobs. He is the first CEO of any Fortune '\n",
    "                            '500 company who is openly gay.',\n",
    "                'title': 'Tim Cook - Wikipedia',\n",
    "                'link': 'https://en.wikipedia.org/wiki/Tim_Cook'}],\n",
    "'relatedSearches': [{'query': 'Who invented the iPhone'},\n",
    "                    {'query': 'Apple iPhone'},\n",
    "                    {'query': 'History of Apple company PDF'},\n",
    "                    {'query': 'Apple company history'},\n",
    "                    {'query': 'Apple company introduction'},\n",
    "                    {'query': 'Apple India'},\n",
    "                    {'query': 'What does Apple Inc own'},\n",
    "                    {'query': 'Apple Inc After Steve'},\n",
    "                    {'query': 'Apple Watch'},\n",
    "                    {'query': 'Apple App Store'}]}"
   ]
  },
  {
   "cell_type": "markdown",
   "metadata": {},
   "source": [
    "## NOTE: for specific user cases, please refer to the original documentation."
   ]
  }
 ],
 "metadata": {
  "kernelspec": {
   "display_name": ".venv",
   "language": "python",
   "name": "python3"
  },
  "language_info": {
   "codemirror_mode": {
    "name": "ipython",
    "version": 3
   },
   "file_extension": ".py",
   "mimetype": "text/x-python",
   "name": "python",
   "nbconvert_exporter": "python",
   "pygments_lexer": "ipython3",
   "version": "3.11.4"
  },
  "orig_nbformat": 4
 },
 "nbformat": 4,
 "nbformat_minor": 2
}
